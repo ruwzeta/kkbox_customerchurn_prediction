{
 "cells": [
  {
   "cell_type": "code",
   "execution_count": 1,
   "metadata": {
    "gather": {
     "logged": 1650477579197
    }
   },
   "outputs": [],
   "source": [
    "import pandas as pd\n",
    "import sweetviz\n",
    "import numpy as np\n"
   ]
  },
  {
   "cell_type": "code",
   "execution_count": 2,
   "metadata": {},
   "outputs": [],
   "source": [
    "df = pd.read_csv('output.csv')"
   ]
  },
  {
   "cell_type": "code",
   "execution_count": 3,
   "metadata": {
    "gather": {
     "logged": 1650475100307
    }
   },
   "outputs": [
    {
     "data": {
      "text/plain": [
       "msno                       object\n",
       "city                        int64\n",
       "bd                          int64\n",
       "gender                     object\n",
       "registered_via              int64\n",
       "registration_init_time      int64\n",
       "msno_R                     object\n",
       "payment_method_id           int64\n",
       "payment_plan_days           int64\n",
       "plan_list_price             int64\n",
       "actual_amount_paid          int64\n",
       "is_auto_renew               int64\n",
       "transaction_date            int64\n",
       "membership_expire_date      int64\n",
       "is_cancel                   int64\n",
       "msno_R1                    object\n",
       "date                        int64\n",
       "num_25                      int64\n",
       "num_50                      int64\n",
       "num_75                      int64\n",
       "num_985                     int64\n",
       "num_100                     int64\n",
       "num_unq                     int64\n",
       "total_secs                float64\n",
       "msno_R2                    object\n",
       "is_churn                    int64\n",
       "dtype: object"
      ]
     },
     "execution_count": 3,
     "metadata": {},
     "output_type": "execute_result"
    }
   ],
   "source": [
    "df.dtypes"
   ]
  },
  {
   "cell_type": "code",
   "execution_count": 4,
   "metadata": {
    "gather": {
     "logged": 1650475103192
    }
   },
   "outputs": [],
   "source": [
    "df=df.drop(['msno','bd','msno_R','msno_R1','num_25','num_50','num_75','num_985','num_100','num_unq','msno_R2','payment_method_id','date'], axis=1)"
   ]
  },
  {
   "cell_type": "code",
   "execution_count": 5,
   "metadata": {
    "gather": {
     "logged": 1650475104794
    }
   },
   "outputs": [
    {
     "data": {
      "text/plain": [
       "city                        int64\n",
       "gender                     object\n",
       "registered_via              int64\n",
       "registration_init_time      int64\n",
       "payment_plan_days           int64\n",
       "plan_list_price             int64\n",
       "actual_amount_paid          int64\n",
       "is_auto_renew               int64\n",
       "transaction_date            int64\n",
       "membership_expire_date      int64\n",
       "is_cancel                   int64\n",
       "total_secs                float64\n",
       "is_churn                    int64\n",
       "dtype: object"
      ]
     },
     "execution_count": 5,
     "metadata": {},
     "output_type": "execute_result"
    }
   ],
   "source": [
    "df.dtypes"
   ]
  },
  {
   "cell_type": "code",
   "execution_count": 7,
   "metadata": {
    "gather": {
     "logged": 1650477628729
    }
   },
   "outputs": [],
   "source": [
    "from sklearn.preprocessing import LabelEncoder"
   ]
  },
  {
   "cell_type": "code",
   "execution_count": 8,
   "metadata": {
    "gather": {
     "logged": 1650477631385
    }
   },
   "outputs": [
    {
     "data": {
      "text/html": [
       "<div>\n",
       "<style scoped>\n",
       "    .dataframe tbody tr th:only-of-type {\n",
       "        vertical-align: middle;\n",
       "    }\n",
       "\n",
       "    .dataframe tbody tr th {\n",
       "        vertical-align: top;\n",
       "    }\n",
       "\n",
       "    .dataframe thead th {\n",
       "        text-align: right;\n",
       "    }\n",
       "</style>\n",
       "<table border=\"1\" class=\"dataframe\">\n",
       "  <thead>\n",
       "    <tr style=\"text-align: right;\">\n",
       "      <th></th>\n",
       "      <th>city</th>\n",
       "      <th>gender</th>\n",
       "      <th>registered_via</th>\n",
       "      <th>registration_init_time</th>\n",
       "      <th>payment_plan_days</th>\n",
       "      <th>plan_list_price</th>\n",
       "      <th>actual_amount_paid</th>\n",
       "      <th>is_auto_renew</th>\n",
       "      <th>transaction_date</th>\n",
       "      <th>membership_expire_date</th>\n",
       "      <th>is_cancel</th>\n",
       "      <th>total_secs</th>\n",
       "      <th>is_churn</th>\n",
       "    </tr>\n",
       "  </thead>\n",
       "  <tbody>\n",
       "    <tr>\n",
       "      <th>0</th>\n",
       "      <td>13</td>\n",
       "      <td>1</td>\n",
       "      <td>9</td>\n",
       "      <td>20110918</td>\n",
       "      <td>30</td>\n",
       "      <td>149</td>\n",
       "      <td>149</td>\n",
       "      <td>1</td>\n",
       "      <td>20170327</td>\n",
       "      <td>20170426</td>\n",
       "      <td>0</td>\n",
       "      <td>6251.930</td>\n",
       "      <td>0</td>\n",
       "    </tr>\n",
       "    <tr>\n",
       "      <th>1</th>\n",
       "      <td>13</td>\n",
       "      <td>1</td>\n",
       "      <td>9</td>\n",
       "      <td>20110918</td>\n",
       "      <td>30</td>\n",
       "      <td>149</td>\n",
       "      <td>149</td>\n",
       "      <td>1</td>\n",
       "      <td>20170327</td>\n",
       "      <td>20170426</td>\n",
       "      <td>0</td>\n",
       "      <td>886.523</td>\n",
       "      <td>0</td>\n",
       "    </tr>\n",
       "    <tr>\n",
       "      <th>2</th>\n",
       "      <td>13</td>\n",
       "      <td>1</td>\n",
       "      <td>9</td>\n",
       "      <td>20110918</td>\n",
       "      <td>30</td>\n",
       "      <td>149</td>\n",
       "      <td>149</td>\n",
       "      <td>1</td>\n",
       "      <td>20170327</td>\n",
       "      <td>20170426</td>\n",
       "      <td>0</td>\n",
       "      <td>5610.564</td>\n",
       "      <td>0</td>\n",
       "    </tr>\n",
       "    <tr>\n",
       "      <th>3</th>\n",
       "      <td>13</td>\n",
       "      <td>1</td>\n",
       "      <td>9</td>\n",
       "      <td>20110918</td>\n",
       "      <td>30</td>\n",
       "      <td>149</td>\n",
       "      <td>149</td>\n",
       "      <td>1</td>\n",
       "      <td>20170327</td>\n",
       "      <td>20170426</td>\n",
       "      <td>0</td>\n",
       "      <td>0.131</td>\n",
       "      <td>0</td>\n",
       "    </tr>\n",
       "    <tr>\n",
       "      <th>4</th>\n",
       "      <td>13</td>\n",
       "      <td>1</td>\n",
       "      <td>9</td>\n",
       "      <td>20110918</td>\n",
       "      <td>30</td>\n",
       "      <td>149</td>\n",
       "      <td>149</td>\n",
       "      <td>1</td>\n",
       "      <td>20170327</td>\n",
       "      <td>20170426</td>\n",
       "      <td>0</td>\n",
       "      <td>9543.254</td>\n",
       "      <td>0</td>\n",
       "    </tr>\n",
       "    <tr>\n",
       "      <th>...</th>\n",
       "      <td>...</td>\n",
       "      <td>...</td>\n",
       "      <td>...</td>\n",
       "      <td>...</td>\n",
       "      <td>...</td>\n",
       "      <td>...</td>\n",
       "      <td>...</td>\n",
       "      <td>...</td>\n",
       "      <td>...</td>\n",
       "      <td>...</td>\n",
       "      <td>...</td>\n",
       "      <td>...</td>\n",
       "      <td>...</td>\n",
       "    </tr>\n",
       "    <tr>\n",
       "      <th>3513517</th>\n",
       "      <td>5</td>\n",
       "      <td>1</td>\n",
       "      <td>7</td>\n",
       "      <td>20151019</td>\n",
       "      <td>30</td>\n",
       "      <td>99</td>\n",
       "      <td>99</td>\n",
       "      <td>1</td>\n",
       "      <td>20170319</td>\n",
       "      <td>20170419</td>\n",
       "      <td>0</td>\n",
       "      <td>11128.153</td>\n",
       "      <td>0</td>\n",
       "    </tr>\n",
       "    <tr>\n",
       "      <th>3513518</th>\n",
       "      <td>5</td>\n",
       "      <td>1</td>\n",
       "      <td>7</td>\n",
       "      <td>20151019</td>\n",
       "      <td>30</td>\n",
       "      <td>99</td>\n",
       "      <td>99</td>\n",
       "      <td>1</td>\n",
       "      <td>20170319</td>\n",
       "      <td>20170419</td>\n",
       "      <td>0</td>\n",
       "      <td>6698.158</td>\n",
       "      <td>0</td>\n",
       "    </tr>\n",
       "    <tr>\n",
       "      <th>3513519</th>\n",
       "      <td>5</td>\n",
       "      <td>1</td>\n",
       "      <td>7</td>\n",
       "      <td>20151019</td>\n",
       "      <td>30</td>\n",
       "      <td>99</td>\n",
       "      <td>99</td>\n",
       "      <td>1</td>\n",
       "      <td>20170319</td>\n",
       "      <td>20170419</td>\n",
       "      <td>0</td>\n",
       "      <td>5967.741</td>\n",
       "      <td>0</td>\n",
       "    </tr>\n",
       "    <tr>\n",
       "      <th>3513520</th>\n",
       "      <td>5</td>\n",
       "      <td>1</td>\n",
       "      <td>7</td>\n",
       "      <td>20151019</td>\n",
       "      <td>30</td>\n",
       "      <td>99</td>\n",
       "      <td>99</td>\n",
       "      <td>1</td>\n",
       "      <td>20170319</td>\n",
       "      <td>20170419</td>\n",
       "      <td>0</td>\n",
       "      <td>22778.409</td>\n",
       "      <td>0</td>\n",
       "    </tr>\n",
       "    <tr>\n",
       "      <th>3513521</th>\n",
       "      <td>5</td>\n",
       "      <td>1</td>\n",
       "      <td>7</td>\n",
       "      <td>20151019</td>\n",
       "      <td>30</td>\n",
       "      <td>99</td>\n",
       "      <td>99</td>\n",
       "      <td>1</td>\n",
       "      <td>20170319</td>\n",
       "      <td>20170419</td>\n",
       "      <td>0</td>\n",
       "      <td>16034.585</td>\n",
       "      <td>0</td>\n",
       "    </tr>\n",
       "  </tbody>\n",
       "</table>\n",
       "<p>3513522 rows × 13 columns</p>\n",
       "</div>"
      ],
      "text/plain": [
       "         city  gender  registered_via  registration_init_time  \\\n",
       "0          13       1               9                20110918   \n",
       "1          13       1               9                20110918   \n",
       "2          13       1               9                20110918   \n",
       "3          13       1               9                20110918   \n",
       "4          13       1               9                20110918   \n",
       "...       ...     ...             ...                     ...   \n",
       "3513517     5       1               7                20151019   \n",
       "3513518     5       1               7                20151019   \n",
       "3513519     5       1               7                20151019   \n",
       "3513520     5       1               7                20151019   \n",
       "3513521     5       1               7                20151019   \n",
       "\n",
       "         payment_plan_days  plan_list_price  actual_amount_paid  \\\n",
       "0                       30              149                 149   \n",
       "1                       30              149                 149   \n",
       "2                       30              149                 149   \n",
       "3                       30              149                 149   \n",
       "4                       30              149                 149   \n",
       "...                    ...              ...                 ...   \n",
       "3513517                 30               99                  99   \n",
       "3513518                 30               99                  99   \n",
       "3513519                 30               99                  99   \n",
       "3513520                 30               99                  99   \n",
       "3513521                 30               99                  99   \n",
       "\n",
       "         is_auto_renew  transaction_date  membership_expire_date  is_cancel  \\\n",
       "0                    1          20170327                20170426          0   \n",
       "1                    1          20170327                20170426          0   \n",
       "2                    1          20170327                20170426          0   \n",
       "3                    1          20170327                20170426          0   \n",
       "4                    1          20170327                20170426          0   \n",
       "...                ...               ...                     ...        ...   \n",
       "3513517              1          20170319                20170419          0   \n",
       "3513518              1          20170319                20170419          0   \n",
       "3513519              1          20170319                20170419          0   \n",
       "3513520              1          20170319                20170419          0   \n",
       "3513521              1          20170319                20170419          0   \n",
       "\n",
       "         total_secs  is_churn  \n",
       "0          6251.930         0  \n",
       "1           886.523         0  \n",
       "2          5610.564         0  \n",
       "3             0.131         0  \n",
       "4          9543.254         0  \n",
       "...             ...       ...  \n",
       "3513517   11128.153         0  \n",
       "3513518    6698.158         0  \n",
       "3513519    5967.741         0  \n",
       "3513520   22778.409         0  \n",
       "3513521   16034.585         0  \n",
       "\n",
       "[3513522 rows x 13 columns]"
      ]
     },
     "execution_count": 8,
     "metadata": {},
     "output_type": "execute_result"
    }
   ],
   "source": [
    "# creating instance of labelencoder\n",
    "labelencoder = LabelEncoder()\n",
    "# Assigning numerical values and storing in another column\n",
    "df['gender'] = labelencoder.fit_transform(df['gender'])\n",
    "df"
   ]
  },
  {
   "cell_type": "code",
   "execution_count": 9,
   "metadata": {},
   "outputs": [
    {
     "data": {
      "text/plain": [
       "city                        int64\n",
       "gender                      int32\n",
       "registered_via              int64\n",
       "registration_init_time      int64\n",
       "payment_plan_days           int64\n",
       "plan_list_price             int64\n",
       "actual_amount_paid          int64\n",
       "is_auto_renew               int64\n",
       "transaction_date            int64\n",
       "membership_expire_date      int64\n",
       "is_cancel                   int64\n",
       "total_secs                float64\n",
       "is_churn                    int64\n",
       "dtype: object"
      ]
     },
     "execution_count": 9,
     "metadata": {},
     "output_type": "execute_result"
    }
   ],
   "source": [
    "df.dtypes"
   ]
  },
  {
   "cell_type": "code",
   "execution_count": 18,
   "metadata": {},
   "outputs": [
    {
     "data": {
      "application/vnd.jupyter.widget-view+json": {
       "model_id": "7e935c66f414443d84df16dbaabeecf2",
       "version_major": 2,
       "version_minor": 0
      },
      "text/plain": [
       "                                             |          | [  0%]   00:00 -> (? left)"
      ]
     },
     "metadata": {},
     "output_type": "display_data"
    },
    {
     "name": "stderr",
     "output_type": "stream",
     "text": [
      "C:\\Users\\ruwin\\anaconda3\\lib\\site-packages\\sweetviz\\graph_associations.py:223: FutureWarning: The frame.append method is deprecated and will be removed from pandas in a future version. Use pandas.concat instead.\n",
      "  new_dataframe = new_dataframe.append(pd.Series(empty_row_dict, name=feature))\n",
      "C:\\Users\\ruwin\\anaconda3\\lib\\site-packages\\sweetviz\\graph_associations.py:223: FutureWarning: The frame.append method is deprecated and will be removed from pandas in a future version. Use pandas.concat instead.\n",
      "  new_dataframe = new_dataframe.append(pd.Series(empty_row_dict, name=feature))\n",
      "C:\\Users\\ruwin\\anaconda3\\lib\\site-packages\\sweetviz\\graph_associations.py:223: FutureWarning: The frame.append method is deprecated and will be removed from pandas in a future version. Use pandas.concat instead.\n",
      "  new_dataframe = new_dataframe.append(pd.Series(empty_row_dict, name=feature))\n",
      "C:\\Users\\ruwin\\anaconda3\\lib\\site-packages\\sweetviz\\graph_associations.py:223: FutureWarning: The frame.append method is deprecated and will be removed from pandas in a future version. Use pandas.concat instead.\n",
      "  new_dataframe = new_dataframe.append(pd.Series(empty_row_dict, name=feature))\n",
      "C:\\Users\\ruwin\\anaconda3\\lib\\site-packages\\sweetviz\\graph_associations.py:223: FutureWarning: The frame.append method is deprecated and will be removed from pandas in a future version. Use pandas.concat instead.\n",
      "  new_dataframe = new_dataframe.append(pd.Series(empty_row_dict, name=feature))\n",
      "C:\\Users\\ruwin\\anaconda3\\lib\\site-packages\\sweetviz\\graph_associations.py:223: FutureWarning: The frame.append method is deprecated and will be removed from pandas in a future version. Use pandas.concat instead.\n",
      "  new_dataframe = new_dataframe.append(pd.Series(empty_row_dict, name=feature))\n",
      "C:\\Users\\ruwin\\anaconda3\\lib\\site-packages\\sweetviz\\graph_associations.py:223: FutureWarning: The frame.append method is deprecated and will be removed from pandas in a future version. Use pandas.concat instead.\n",
      "  new_dataframe = new_dataframe.append(pd.Series(empty_row_dict, name=feature))\n",
      "C:\\Users\\ruwin\\anaconda3\\lib\\site-packages\\sweetviz\\graph_associations.py:223: FutureWarning: The frame.append method is deprecated and will be removed from pandas in a future version. Use pandas.concat instead.\n",
      "  new_dataframe = new_dataframe.append(pd.Series(empty_row_dict, name=feature))\n",
      "C:\\Users\\ruwin\\anaconda3\\lib\\site-packages\\sweetviz\\graph_associations.py:223: FutureWarning: The frame.append method is deprecated and will be removed from pandas in a future version. Use pandas.concat instead.\n",
      "  new_dataframe = new_dataframe.append(pd.Series(empty_row_dict, name=feature))\n",
      "C:\\Users\\ruwin\\anaconda3\\lib\\site-packages\\sweetviz\\graph_associations.py:223: FutureWarning: The frame.append method is deprecated and will be removed from pandas in a future version. Use pandas.concat instead.\n",
      "  new_dataframe = new_dataframe.append(pd.Series(empty_row_dict, name=feature))\n",
      "C:\\Users\\ruwin\\anaconda3\\lib\\site-packages\\sweetviz\\graph_associations.py:223: FutureWarning: The frame.append method is deprecated and will be removed from pandas in a future version. Use pandas.concat instead.\n",
      "  new_dataframe = new_dataframe.append(pd.Series(empty_row_dict, name=feature))\n",
      "C:\\Users\\ruwin\\anaconda3\\lib\\site-packages\\sweetviz\\graph_associations.py:223: FutureWarning: The frame.append method is deprecated and will be removed from pandas in a future version. Use pandas.concat instead.\n",
      "  new_dataframe = new_dataframe.append(pd.Series(empty_row_dict, name=feature))\n"
     ]
    },
    {
     "name": "stdout",
     "output_type": "stream",
     "text": [
      "Report FinalReport.html was generated! NOTEBOOK/COLAB USERS: the web browser MAY not pop up, regardless, the report IS saved in your notebook/colab files.\n"
     ]
    }
   ],
   "source": [
    "my_report  = sweetviz.analyze([df,'Train'], target_feat='is_churn')\n",
    "my_report.show_html('FinalReport.html')"
   ]
  }
 ],
 "metadata": {
  "kernel_info": {
   "name": "python3"
  },
  "kernelspec": {
   "display_name": "Python 3 (ipykernel)",
   "language": "python",
   "name": "python3"
  },
  "language_info": {
   "codemirror_mode": {
    "name": "ipython",
    "version": 3
   },
   "file_extension": ".py",
   "mimetype": "text/x-python",
   "name": "python",
   "nbconvert_exporter": "python",
   "pygments_lexer": "ipython3",
   "version": "3.8.3"
  },
  "nteract": {
   "version": "nteract-front-end@1.0.0"
  }
 },
 "nbformat": 4,
 "nbformat_minor": 4
}
