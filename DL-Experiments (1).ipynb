{
  "cells": [
    {
      "cell_type": "code",
      "source": [
        "# azureml-core of version 1.0.72 or higher is required\r\n",
        "# azureml-dataprep[pandas] of version 1.1.34 or higher is required\r\n",
        "from azureml.core import Workspace, Dataset\r\n",
        "import pandas as pd\r\n",
        "\r\n",
        "subscription_id = 'c6a1d5d0-2956-4788-bc3e-ad7495ba03b9'\r\n",
        "resource_group = 'rg-g7-dev'\r\n",
        "workspace_name = 'ml-g7-dev'\r\n",
        "\r\n",
        "workspace = Workspace(subscription_id, resource_group, workspace_name)\r\n",
        "\r\n",
        "dataset = Dataset.get_by_name(workspace, name='kkbox-customer-stats')\r\n",
        "df = dataset.to_pandas_dataframe()\r\n",
        "df"
      ],
      "outputs": [
        {
          "output_type": "execute_result",
          "execution_count": 2,
          "data": {
            "text/plain": "                                                 msno  city  bd gender  \\\n0        I0yFvqMoNkM8ZNHb617e1RBzIS/YRKemHO7Wj13EtA0=    13  63   male   \n1        I0yFvqMoNkM8ZNHb617e1RBzIS/YRKemHO7Wj13EtA0=    13  63   male   \n2        I0yFvqMoNkM8ZNHb617e1RBzIS/YRKemHO7Wj13EtA0=    13  63   male   \n3        I0yFvqMoNkM8ZNHb617e1RBzIS/YRKemHO7Wj13EtA0=    13  63   male   \n4        I0yFvqMoNkM8ZNHb617e1RBzIS/YRKemHO7Wj13EtA0=    13  63   male   \n...                                               ...   ...  ..    ...   \n3513517  vvMAO/rasdxnKypB4SBEdLClhMbD0041+t5dKSAKDk8=     5  22   male   \n3513518  vvMAO/rasdxnKypB4SBEdLClhMbD0041+t5dKSAKDk8=     5  22   male   \n3513519  vvMAO/rasdxnKypB4SBEdLClhMbD0041+t5dKSAKDk8=     5  22   male   \n3513520  vvMAO/rasdxnKypB4SBEdLClhMbD0041+t5dKSAKDk8=     5  22   male   \n3513521  vvMAO/rasdxnKypB4SBEdLClhMbD0041+t5dKSAKDk8=     5  22   male   \n\n         registered_via  registration_init_time  payment_method_id  \\\n0                     9                20110918                 40   \n1                     9                20110918                 40   \n2                     9                20110918                 40   \n3                     9                20110918                 40   \n4                     9                20110918                 40   \n...                 ...                     ...                ...   \n3513517               7                20151019                 41   \n3513518               7                20151019                 41   \n3513519               7                20151019                 41   \n3513520               7                20151019                 41   \n3513521               7                20151019                 41   \n\n         payment_plan_days  plan_list_price  actual_amount_paid  ...  \\\n0                       30              149                 149  ...   \n1                       30              149                 149  ...   \n2                       30              149                 149  ...   \n3                       30              149                 149  ...   \n4                       30              149                 149  ...   \n...                    ...              ...                 ...  ...   \n3513517                 30               99                  99  ...   \n3513518                 30               99                  99  ...   \n3513519                 30               99                  99  ...   \n3513520                 30               99                  99  ...   \n3513521                 30               99                  99  ...   \n\n         is_cancel      date  num_25  num_50  num_75  num_985  num_100  \\\n0                0  20170329       0       0       0        0       24   \n1                0  20170322       1       0       0        0        4   \n2                0  20170313       9       8       5        8        6   \n3                0  20170319       1       0       0        0        0   \n4                0  20170323       1       0       1        0       38   \n...            ...       ...     ...     ...     ...      ...      ...   \n3513517          0  20170330       2       0       0        1       41   \n3513518          0  20170324       2       1       0        0       25   \n3513519          0  20170329      10       0       0        0       23   \n3513520          0  20170311      11       0       3        1       86   \n3513521          0  20170312      19       0       1        0       63   \n\n         num_unq  total_secs  is_churn  \n0             19    6251.930         0  \n1              3     886.523         0  \n2             33    5610.564         0  \n3              1       0.131         0  \n4             32    9543.254         0  \n...          ...         ...       ...  \n3513517       44   11128.153         0  \n3513518       27    6698.158         0  \n3513519       32    5967.741         0  \n3513520      101   22778.409         0  \n3513521       82   16034.585         0  \n\n[3513522 rows x 23 columns]",
            "text/html": "<div>\n<style scoped>\n    .dataframe tbody tr th:only-of-type {\n        vertical-align: middle;\n    }\n\n    .dataframe tbody tr th {\n        vertical-align: top;\n    }\n\n    .dataframe thead th {\n        text-align: right;\n    }\n</style>\n<table border=\"1\" class=\"dataframe\">\n  <thead>\n    <tr style=\"text-align: right;\">\n      <th></th>\n      <th>msno</th>\n      <th>city</th>\n      <th>bd</th>\n      <th>gender</th>\n      <th>registered_via</th>\n      <th>registration_init_time</th>\n      <th>payment_method_id</th>\n      <th>payment_plan_days</th>\n      <th>plan_list_price</th>\n      <th>actual_amount_paid</th>\n      <th>...</th>\n      <th>is_cancel</th>\n      <th>date</th>\n      <th>num_25</th>\n      <th>num_50</th>\n      <th>num_75</th>\n      <th>num_985</th>\n      <th>num_100</th>\n      <th>num_unq</th>\n      <th>total_secs</th>\n      <th>is_churn</th>\n    </tr>\n  </thead>\n  <tbody>\n    <tr>\n      <th>0</th>\n      <td>I0yFvqMoNkM8ZNHb617e1RBzIS/YRKemHO7Wj13EtA0=</td>\n      <td>13</td>\n      <td>63</td>\n      <td>male</td>\n      <td>9</td>\n      <td>20110918</td>\n      <td>40</td>\n      <td>30</td>\n      <td>149</td>\n      <td>149</td>\n      <td>...</td>\n      <td>0</td>\n      <td>20170329</td>\n      <td>0</td>\n      <td>0</td>\n      <td>0</td>\n      <td>0</td>\n      <td>24</td>\n      <td>19</td>\n      <td>6251.930</td>\n      <td>0</td>\n    </tr>\n    <tr>\n      <th>1</th>\n      <td>I0yFvqMoNkM8ZNHb617e1RBzIS/YRKemHO7Wj13EtA0=</td>\n      <td>13</td>\n      <td>63</td>\n      <td>male</td>\n      <td>9</td>\n      <td>20110918</td>\n      <td>40</td>\n      <td>30</td>\n      <td>149</td>\n      <td>149</td>\n      <td>...</td>\n      <td>0</td>\n      <td>20170322</td>\n      <td>1</td>\n      <td>0</td>\n      <td>0</td>\n      <td>0</td>\n      <td>4</td>\n      <td>3</td>\n      <td>886.523</td>\n      <td>0</td>\n    </tr>\n    <tr>\n      <th>2</th>\n      <td>I0yFvqMoNkM8ZNHb617e1RBzIS/YRKemHO7Wj13EtA0=</td>\n      <td>13</td>\n      <td>63</td>\n      <td>male</td>\n      <td>9</td>\n      <td>20110918</td>\n      <td>40</td>\n      <td>30</td>\n      <td>149</td>\n      <td>149</td>\n      <td>...</td>\n      <td>0</td>\n      <td>20170313</td>\n      <td>9</td>\n      <td>8</td>\n      <td>5</td>\n      <td>8</td>\n      <td>6</td>\n      <td>33</td>\n      <td>5610.564</td>\n      <td>0</td>\n    </tr>\n    <tr>\n      <th>3</th>\n      <td>I0yFvqMoNkM8ZNHb617e1RBzIS/YRKemHO7Wj13EtA0=</td>\n      <td>13</td>\n      <td>63</td>\n      <td>male</td>\n      <td>9</td>\n      <td>20110918</td>\n      <td>40</td>\n      <td>30</td>\n      <td>149</td>\n      <td>149</td>\n      <td>...</td>\n      <td>0</td>\n      <td>20170319</td>\n      <td>1</td>\n      <td>0</td>\n      <td>0</td>\n      <td>0</td>\n      <td>0</td>\n      <td>1</td>\n      <td>0.131</td>\n      <td>0</td>\n    </tr>\n    <tr>\n      <th>4</th>\n      <td>I0yFvqMoNkM8ZNHb617e1RBzIS/YRKemHO7Wj13EtA0=</td>\n      <td>13</td>\n      <td>63</td>\n      <td>male</td>\n      <td>9</td>\n      <td>20110918</td>\n      <td>40</td>\n      <td>30</td>\n      <td>149</td>\n      <td>149</td>\n      <td>...</td>\n      <td>0</td>\n      <td>20170323</td>\n      <td>1</td>\n      <td>0</td>\n      <td>1</td>\n      <td>0</td>\n      <td>38</td>\n      <td>32</td>\n      <td>9543.254</td>\n      <td>0</td>\n    </tr>\n    <tr>\n      <th>...</th>\n      <td>...</td>\n      <td>...</td>\n      <td>...</td>\n      <td>...</td>\n      <td>...</td>\n      <td>...</td>\n      <td>...</td>\n      <td>...</td>\n      <td>...</td>\n      <td>...</td>\n      <td>...</td>\n      <td>...</td>\n      <td>...</td>\n      <td>...</td>\n      <td>...</td>\n      <td>...</td>\n      <td>...</td>\n      <td>...</td>\n      <td>...</td>\n      <td>...</td>\n      <td>...</td>\n    </tr>\n    <tr>\n      <th>3513517</th>\n      <td>vvMAO/rasdxnKypB4SBEdLClhMbD0041+t5dKSAKDk8=</td>\n      <td>5</td>\n      <td>22</td>\n      <td>male</td>\n      <td>7</td>\n      <td>20151019</td>\n      <td>41</td>\n      <td>30</td>\n      <td>99</td>\n      <td>99</td>\n      <td>...</td>\n      <td>0</td>\n      <td>20170330</td>\n      <td>2</td>\n      <td>0</td>\n      <td>0</td>\n      <td>1</td>\n      <td>41</td>\n      <td>44</td>\n      <td>11128.153</td>\n      <td>0</td>\n    </tr>\n    <tr>\n      <th>3513518</th>\n      <td>vvMAO/rasdxnKypB4SBEdLClhMbD0041+t5dKSAKDk8=</td>\n      <td>5</td>\n      <td>22</td>\n      <td>male</td>\n      <td>7</td>\n      <td>20151019</td>\n      <td>41</td>\n      <td>30</td>\n      <td>99</td>\n      <td>99</td>\n      <td>...</td>\n      <td>0</td>\n      <td>20170324</td>\n      <td>2</td>\n      <td>1</td>\n      <td>0</td>\n      <td>0</td>\n      <td>25</td>\n      <td>27</td>\n      <td>6698.158</td>\n      <td>0</td>\n    </tr>\n    <tr>\n      <th>3513519</th>\n      <td>vvMAO/rasdxnKypB4SBEdLClhMbD0041+t5dKSAKDk8=</td>\n      <td>5</td>\n      <td>22</td>\n      <td>male</td>\n      <td>7</td>\n      <td>20151019</td>\n      <td>41</td>\n      <td>30</td>\n      <td>99</td>\n      <td>99</td>\n      <td>...</td>\n      <td>0</td>\n      <td>20170329</td>\n      <td>10</td>\n      <td>0</td>\n      <td>0</td>\n      <td>0</td>\n      <td>23</td>\n      <td>32</td>\n      <td>5967.741</td>\n      <td>0</td>\n    </tr>\n    <tr>\n      <th>3513520</th>\n      <td>vvMAO/rasdxnKypB4SBEdLClhMbD0041+t5dKSAKDk8=</td>\n      <td>5</td>\n      <td>22</td>\n      <td>male</td>\n      <td>7</td>\n      <td>20151019</td>\n      <td>41</td>\n      <td>30</td>\n      <td>99</td>\n      <td>99</td>\n      <td>...</td>\n      <td>0</td>\n      <td>20170311</td>\n      <td>11</td>\n      <td>0</td>\n      <td>3</td>\n      <td>1</td>\n      <td>86</td>\n      <td>101</td>\n      <td>22778.409</td>\n      <td>0</td>\n    </tr>\n    <tr>\n      <th>3513521</th>\n      <td>vvMAO/rasdxnKypB4SBEdLClhMbD0041+t5dKSAKDk8=</td>\n      <td>5</td>\n      <td>22</td>\n      <td>male</td>\n      <td>7</td>\n      <td>20151019</td>\n      <td>41</td>\n      <td>30</td>\n      <td>99</td>\n      <td>99</td>\n      <td>...</td>\n      <td>0</td>\n      <td>20170312</td>\n      <td>19</td>\n      <td>0</td>\n      <td>1</td>\n      <td>0</td>\n      <td>63</td>\n      <td>82</td>\n      <td>16034.585</td>\n      <td>0</td>\n    </tr>\n  </tbody>\n</table>\n<p>3513522 rows × 23 columns</p>\n</div>"
          },
          "metadata": {}
        }
      ],
      "execution_count": 2,
      "metadata": {
        "jupyter": {
          "source_hidden": true,
          "outputs_hidden": true
        },
        "nteract": {
          "transient": {
            "deleting": false
          }
        },
        "gather": {
          "logged": 1650523928136
        }
      }
    },
    {
      "cell_type": "code",
      "source": [
        "df = dataset.to_pandas_dataframe()\r\n",
        "\r\n",
        "df.head(5)"
      ],
      "outputs": [
        {
          "output_type": "execute_result",
          "execution_count": 3,
          "data": {
            "text/plain": "                                           msno  city  bd gender  \\\n0  I0yFvqMoNkM8ZNHb617e1RBzIS/YRKemHO7Wj13EtA0=    13  63   male   \n1  I0yFvqMoNkM8ZNHb617e1RBzIS/YRKemHO7Wj13EtA0=    13  63   male   \n2  I0yFvqMoNkM8ZNHb617e1RBzIS/YRKemHO7Wj13EtA0=    13  63   male   \n3  I0yFvqMoNkM8ZNHb617e1RBzIS/YRKemHO7Wj13EtA0=    13  63   male   \n4  I0yFvqMoNkM8ZNHb617e1RBzIS/YRKemHO7Wj13EtA0=    13  63   male   \n\n   registered_via  registration_init_time  payment_method_id  \\\n0               9                20110918                 40   \n1               9                20110918                 40   \n2               9                20110918                 40   \n3               9                20110918                 40   \n4               9                20110918                 40   \n\n   payment_plan_days  plan_list_price  actual_amount_paid  ...  is_cancel  \\\n0                 30              149                 149  ...          0   \n1                 30              149                 149  ...          0   \n2                 30              149                 149  ...          0   \n3                 30              149                 149  ...          0   \n4                 30              149                 149  ...          0   \n\n       date  num_25  num_50  num_75  num_985  num_100  num_unq  total_secs  \\\n0  20170329       0       0       0        0       24       19    6251.930   \n1  20170322       1       0       0        0        4        3     886.523   \n2  20170313       9       8       5        8        6       33    5610.564   \n3  20170319       1       0       0        0        0        1       0.131   \n4  20170323       1       0       1        0       38       32    9543.254   \n\n   is_churn  \n0         0  \n1         0  \n2         0  \n3         0  \n4         0  \n\n[5 rows x 23 columns]",
            "text/html": "<div>\n<style scoped>\n    .dataframe tbody tr th:only-of-type {\n        vertical-align: middle;\n    }\n\n    .dataframe tbody tr th {\n        vertical-align: top;\n    }\n\n    .dataframe thead th {\n        text-align: right;\n    }\n</style>\n<table border=\"1\" class=\"dataframe\">\n  <thead>\n    <tr style=\"text-align: right;\">\n      <th></th>\n      <th>msno</th>\n      <th>city</th>\n      <th>bd</th>\n      <th>gender</th>\n      <th>registered_via</th>\n      <th>registration_init_time</th>\n      <th>payment_method_id</th>\n      <th>payment_plan_days</th>\n      <th>plan_list_price</th>\n      <th>actual_amount_paid</th>\n      <th>...</th>\n      <th>is_cancel</th>\n      <th>date</th>\n      <th>num_25</th>\n      <th>num_50</th>\n      <th>num_75</th>\n      <th>num_985</th>\n      <th>num_100</th>\n      <th>num_unq</th>\n      <th>total_secs</th>\n      <th>is_churn</th>\n    </tr>\n  </thead>\n  <tbody>\n    <tr>\n      <th>0</th>\n      <td>I0yFvqMoNkM8ZNHb617e1RBzIS/YRKemHO7Wj13EtA0=</td>\n      <td>13</td>\n      <td>63</td>\n      <td>male</td>\n      <td>9</td>\n      <td>20110918</td>\n      <td>40</td>\n      <td>30</td>\n      <td>149</td>\n      <td>149</td>\n      <td>...</td>\n      <td>0</td>\n      <td>20170329</td>\n      <td>0</td>\n      <td>0</td>\n      <td>0</td>\n      <td>0</td>\n      <td>24</td>\n      <td>19</td>\n      <td>6251.930</td>\n      <td>0</td>\n    </tr>\n    <tr>\n      <th>1</th>\n      <td>I0yFvqMoNkM8ZNHb617e1RBzIS/YRKemHO7Wj13EtA0=</td>\n      <td>13</td>\n      <td>63</td>\n      <td>male</td>\n      <td>9</td>\n      <td>20110918</td>\n      <td>40</td>\n      <td>30</td>\n      <td>149</td>\n      <td>149</td>\n      <td>...</td>\n      <td>0</td>\n      <td>20170322</td>\n      <td>1</td>\n      <td>0</td>\n      <td>0</td>\n      <td>0</td>\n      <td>4</td>\n      <td>3</td>\n      <td>886.523</td>\n      <td>0</td>\n    </tr>\n    <tr>\n      <th>2</th>\n      <td>I0yFvqMoNkM8ZNHb617e1RBzIS/YRKemHO7Wj13EtA0=</td>\n      <td>13</td>\n      <td>63</td>\n      <td>male</td>\n      <td>9</td>\n      <td>20110918</td>\n      <td>40</td>\n      <td>30</td>\n      <td>149</td>\n      <td>149</td>\n      <td>...</td>\n      <td>0</td>\n      <td>20170313</td>\n      <td>9</td>\n      <td>8</td>\n      <td>5</td>\n      <td>8</td>\n      <td>6</td>\n      <td>33</td>\n      <td>5610.564</td>\n      <td>0</td>\n    </tr>\n    <tr>\n      <th>3</th>\n      <td>I0yFvqMoNkM8ZNHb617e1RBzIS/YRKemHO7Wj13EtA0=</td>\n      <td>13</td>\n      <td>63</td>\n      <td>male</td>\n      <td>9</td>\n      <td>20110918</td>\n      <td>40</td>\n      <td>30</td>\n      <td>149</td>\n      <td>149</td>\n      <td>...</td>\n      <td>0</td>\n      <td>20170319</td>\n      <td>1</td>\n      <td>0</td>\n      <td>0</td>\n      <td>0</td>\n      <td>0</td>\n      <td>1</td>\n      <td>0.131</td>\n      <td>0</td>\n    </tr>\n    <tr>\n      <th>4</th>\n      <td>I0yFvqMoNkM8ZNHb617e1RBzIS/YRKemHO7Wj13EtA0=</td>\n      <td>13</td>\n      <td>63</td>\n      <td>male</td>\n      <td>9</td>\n      <td>20110918</td>\n      <td>40</td>\n      <td>30</td>\n      <td>149</td>\n      <td>149</td>\n      <td>...</td>\n      <td>0</td>\n      <td>20170323</td>\n      <td>1</td>\n      <td>0</td>\n      <td>1</td>\n      <td>0</td>\n      <td>38</td>\n      <td>32</td>\n      <td>9543.254</td>\n      <td>0</td>\n    </tr>\n  </tbody>\n</table>\n<p>5 rows × 23 columns</p>\n</div>"
          },
          "metadata": {}
        }
      ],
      "execution_count": 3,
      "metadata": {
        "gather": {
          "logged": 1650523930997
        },
        "jupyter": {
          "source_hidden": true,
          "outputs_hidden": true
        }
      }
    },
    {
      "cell_type": "code",
      "source": [
        "df"
      ],
      "outputs": [
        {
          "output_type": "execute_result",
          "execution_count": 4,
          "data": {
            "text/plain": "                                                 msno  city  bd gender  \\\n0        I0yFvqMoNkM8ZNHb617e1RBzIS/YRKemHO7Wj13EtA0=    13  63   male   \n1        I0yFvqMoNkM8ZNHb617e1RBzIS/YRKemHO7Wj13EtA0=    13  63   male   \n2        I0yFvqMoNkM8ZNHb617e1RBzIS/YRKemHO7Wj13EtA0=    13  63   male   \n3        I0yFvqMoNkM8ZNHb617e1RBzIS/YRKemHO7Wj13EtA0=    13  63   male   \n4        I0yFvqMoNkM8ZNHb617e1RBzIS/YRKemHO7Wj13EtA0=    13  63   male   \n...                                               ...   ...  ..    ...   \n3513517  vvMAO/rasdxnKypB4SBEdLClhMbD0041+t5dKSAKDk8=     5  22   male   \n3513518  vvMAO/rasdxnKypB4SBEdLClhMbD0041+t5dKSAKDk8=     5  22   male   \n3513519  vvMAO/rasdxnKypB4SBEdLClhMbD0041+t5dKSAKDk8=     5  22   male   \n3513520  vvMAO/rasdxnKypB4SBEdLClhMbD0041+t5dKSAKDk8=     5  22   male   \n3513521  vvMAO/rasdxnKypB4SBEdLClhMbD0041+t5dKSAKDk8=     5  22   male   \n\n         registered_via  registration_init_time  payment_method_id  \\\n0                     9                20110918                 40   \n1                     9                20110918                 40   \n2                     9                20110918                 40   \n3                     9                20110918                 40   \n4                     9                20110918                 40   \n...                 ...                     ...                ...   \n3513517               7                20151019                 41   \n3513518               7                20151019                 41   \n3513519               7                20151019                 41   \n3513520               7                20151019                 41   \n3513521               7                20151019                 41   \n\n         payment_plan_days  plan_list_price  actual_amount_paid  ...  \\\n0                       30              149                 149  ...   \n1                       30              149                 149  ...   \n2                       30              149                 149  ...   \n3                       30              149                 149  ...   \n4                       30              149                 149  ...   \n...                    ...              ...                 ...  ...   \n3513517                 30               99                  99  ...   \n3513518                 30               99                  99  ...   \n3513519                 30               99                  99  ...   \n3513520                 30               99                  99  ...   \n3513521                 30               99                  99  ...   \n\n         is_cancel      date  num_25  num_50  num_75  num_985  num_100  \\\n0                0  20170329       0       0       0        0       24   \n1                0  20170322       1       0       0        0        4   \n2                0  20170313       9       8       5        8        6   \n3                0  20170319       1       0       0        0        0   \n4                0  20170323       1       0       1        0       38   \n...            ...       ...     ...     ...     ...      ...      ...   \n3513517          0  20170330       2       0       0        1       41   \n3513518          0  20170324       2       1       0        0       25   \n3513519          0  20170329      10       0       0        0       23   \n3513520          0  20170311      11       0       3        1       86   \n3513521          0  20170312      19       0       1        0       63   \n\n         num_unq  total_secs  is_churn  \n0             19    6251.930         0  \n1              3     886.523         0  \n2             33    5610.564         0  \n3              1       0.131         0  \n4             32    9543.254         0  \n...          ...         ...       ...  \n3513517       44   11128.153         0  \n3513518       27    6698.158         0  \n3513519       32    5967.741         0  \n3513520      101   22778.409         0  \n3513521       82   16034.585         0  \n\n[3513522 rows x 23 columns]",
            "text/html": "<div>\n<style scoped>\n    .dataframe tbody tr th:only-of-type {\n        vertical-align: middle;\n    }\n\n    .dataframe tbody tr th {\n        vertical-align: top;\n    }\n\n    .dataframe thead th {\n        text-align: right;\n    }\n</style>\n<table border=\"1\" class=\"dataframe\">\n  <thead>\n    <tr style=\"text-align: right;\">\n      <th></th>\n      <th>msno</th>\n      <th>city</th>\n      <th>bd</th>\n      <th>gender</th>\n      <th>registered_via</th>\n      <th>registration_init_time</th>\n      <th>payment_method_id</th>\n      <th>payment_plan_days</th>\n      <th>plan_list_price</th>\n      <th>actual_amount_paid</th>\n      <th>...</th>\n      <th>is_cancel</th>\n      <th>date</th>\n      <th>num_25</th>\n      <th>num_50</th>\n      <th>num_75</th>\n      <th>num_985</th>\n      <th>num_100</th>\n      <th>num_unq</th>\n      <th>total_secs</th>\n      <th>is_churn</th>\n    </tr>\n  </thead>\n  <tbody>\n    <tr>\n      <th>0</th>\n      <td>I0yFvqMoNkM8ZNHb617e1RBzIS/YRKemHO7Wj13EtA0=</td>\n      <td>13</td>\n      <td>63</td>\n      <td>male</td>\n      <td>9</td>\n      <td>20110918</td>\n      <td>40</td>\n      <td>30</td>\n      <td>149</td>\n      <td>149</td>\n      <td>...</td>\n      <td>0</td>\n      <td>20170329</td>\n      <td>0</td>\n      <td>0</td>\n      <td>0</td>\n      <td>0</td>\n      <td>24</td>\n      <td>19</td>\n      <td>6251.930</td>\n      <td>0</td>\n    </tr>\n    <tr>\n      <th>1</th>\n      <td>I0yFvqMoNkM8ZNHb617e1RBzIS/YRKemHO7Wj13EtA0=</td>\n      <td>13</td>\n      <td>63</td>\n      <td>male</td>\n      <td>9</td>\n      <td>20110918</td>\n      <td>40</td>\n      <td>30</td>\n      <td>149</td>\n      <td>149</td>\n      <td>...</td>\n      <td>0</td>\n      <td>20170322</td>\n      <td>1</td>\n      <td>0</td>\n      <td>0</td>\n      <td>0</td>\n      <td>4</td>\n      <td>3</td>\n      <td>886.523</td>\n      <td>0</td>\n    </tr>\n    <tr>\n      <th>2</th>\n      <td>I0yFvqMoNkM8ZNHb617e1RBzIS/YRKemHO7Wj13EtA0=</td>\n      <td>13</td>\n      <td>63</td>\n      <td>male</td>\n      <td>9</td>\n      <td>20110918</td>\n      <td>40</td>\n      <td>30</td>\n      <td>149</td>\n      <td>149</td>\n      <td>...</td>\n      <td>0</td>\n      <td>20170313</td>\n      <td>9</td>\n      <td>8</td>\n      <td>5</td>\n      <td>8</td>\n      <td>6</td>\n      <td>33</td>\n      <td>5610.564</td>\n      <td>0</td>\n    </tr>\n    <tr>\n      <th>3</th>\n      <td>I0yFvqMoNkM8ZNHb617e1RBzIS/YRKemHO7Wj13EtA0=</td>\n      <td>13</td>\n      <td>63</td>\n      <td>male</td>\n      <td>9</td>\n      <td>20110918</td>\n      <td>40</td>\n      <td>30</td>\n      <td>149</td>\n      <td>149</td>\n      <td>...</td>\n      <td>0</td>\n      <td>20170319</td>\n      <td>1</td>\n      <td>0</td>\n      <td>0</td>\n      <td>0</td>\n      <td>0</td>\n      <td>1</td>\n      <td>0.131</td>\n      <td>0</td>\n    </tr>\n    <tr>\n      <th>4</th>\n      <td>I0yFvqMoNkM8ZNHb617e1RBzIS/YRKemHO7Wj13EtA0=</td>\n      <td>13</td>\n      <td>63</td>\n      <td>male</td>\n      <td>9</td>\n      <td>20110918</td>\n      <td>40</td>\n      <td>30</td>\n      <td>149</td>\n      <td>149</td>\n      <td>...</td>\n      <td>0</td>\n      <td>20170323</td>\n      <td>1</td>\n      <td>0</td>\n      <td>1</td>\n      <td>0</td>\n      <td>38</td>\n      <td>32</td>\n      <td>9543.254</td>\n      <td>0</td>\n    </tr>\n    <tr>\n      <th>...</th>\n      <td>...</td>\n      <td>...</td>\n      <td>...</td>\n      <td>...</td>\n      <td>...</td>\n      <td>...</td>\n      <td>...</td>\n      <td>...</td>\n      <td>...</td>\n      <td>...</td>\n      <td>...</td>\n      <td>...</td>\n      <td>...</td>\n      <td>...</td>\n      <td>...</td>\n      <td>...</td>\n      <td>...</td>\n      <td>...</td>\n      <td>...</td>\n      <td>...</td>\n      <td>...</td>\n    </tr>\n    <tr>\n      <th>3513517</th>\n      <td>vvMAO/rasdxnKypB4SBEdLClhMbD0041+t5dKSAKDk8=</td>\n      <td>5</td>\n      <td>22</td>\n      <td>male</td>\n      <td>7</td>\n      <td>20151019</td>\n      <td>41</td>\n      <td>30</td>\n      <td>99</td>\n      <td>99</td>\n      <td>...</td>\n      <td>0</td>\n      <td>20170330</td>\n      <td>2</td>\n      <td>0</td>\n      <td>0</td>\n      <td>1</td>\n      <td>41</td>\n      <td>44</td>\n      <td>11128.153</td>\n      <td>0</td>\n    </tr>\n    <tr>\n      <th>3513518</th>\n      <td>vvMAO/rasdxnKypB4SBEdLClhMbD0041+t5dKSAKDk8=</td>\n      <td>5</td>\n      <td>22</td>\n      <td>male</td>\n      <td>7</td>\n      <td>20151019</td>\n      <td>41</td>\n      <td>30</td>\n      <td>99</td>\n      <td>99</td>\n      <td>...</td>\n      <td>0</td>\n      <td>20170324</td>\n      <td>2</td>\n      <td>1</td>\n      <td>0</td>\n      <td>0</td>\n      <td>25</td>\n      <td>27</td>\n      <td>6698.158</td>\n      <td>0</td>\n    </tr>\n    <tr>\n      <th>3513519</th>\n      <td>vvMAO/rasdxnKypB4SBEdLClhMbD0041+t5dKSAKDk8=</td>\n      <td>5</td>\n      <td>22</td>\n      <td>male</td>\n      <td>7</td>\n      <td>20151019</td>\n      <td>41</td>\n      <td>30</td>\n      <td>99</td>\n      <td>99</td>\n      <td>...</td>\n      <td>0</td>\n      <td>20170329</td>\n      <td>10</td>\n      <td>0</td>\n      <td>0</td>\n      <td>0</td>\n      <td>23</td>\n      <td>32</td>\n      <td>5967.741</td>\n      <td>0</td>\n    </tr>\n    <tr>\n      <th>3513520</th>\n      <td>vvMAO/rasdxnKypB4SBEdLClhMbD0041+t5dKSAKDk8=</td>\n      <td>5</td>\n      <td>22</td>\n      <td>male</td>\n      <td>7</td>\n      <td>20151019</td>\n      <td>41</td>\n      <td>30</td>\n      <td>99</td>\n      <td>99</td>\n      <td>...</td>\n      <td>0</td>\n      <td>20170311</td>\n      <td>11</td>\n      <td>0</td>\n      <td>3</td>\n      <td>1</td>\n      <td>86</td>\n      <td>101</td>\n      <td>22778.409</td>\n      <td>0</td>\n    </tr>\n    <tr>\n      <th>3513521</th>\n      <td>vvMAO/rasdxnKypB4SBEdLClhMbD0041+t5dKSAKDk8=</td>\n      <td>5</td>\n      <td>22</td>\n      <td>male</td>\n      <td>7</td>\n      <td>20151019</td>\n      <td>41</td>\n      <td>30</td>\n      <td>99</td>\n      <td>99</td>\n      <td>...</td>\n      <td>0</td>\n      <td>20170312</td>\n      <td>19</td>\n      <td>0</td>\n      <td>1</td>\n      <td>0</td>\n      <td>63</td>\n      <td>82</td>\n      <td>16034.585</td>\n      <td>0</td>\n    </tr>\n  </tbody>\n</table>\n<p>3513522 rows × 23 columns</p>\n</div>"
          },
          "metadata": {}
        }
      ],
      "execution_count": 4,
      "metadata": {
        "gather": {
          "logged": 1650523932047
        },
        "jupyter": {
          "source_hidden": true,
          "outputs_hidden": true
        }
      }
    },
    {
      "cell_type": "code",
      "source": [
        "df.dtypes"
      ],
      "outputs": [
        {
          "output_type": "execute_result",
          "execution_count": 5,
          "data": {
            "text/plain": "msno                       object\ncity                        int64\nbd                          int64\ngender                     object\nregistered_via              int64\nregistration_init_time      int64\npayment_method_id           int64\npayment_plan_days           int64\nplan_list_price             int64\nactual_amount_paid          int64\nis_auto_renew               int64\ntransaction_date            int64\nmembership_expire_date      int64\nis_cancel                   int64\ndate                        int64\nnum_25                      int64\nnum_50                      int64\nnum_75                      int64\nnum_985                     int64\nnum_100                     int64\nnum_unq                     int64\ntotal_secs                float64\nis_churn                    int64\ndtype: object"
          },
          "metadata": {}
        }
      ],
      "execution_count": 5,
      "metadata": {
        "gather": {
          "logged": 1650523932413
        },
        "jupyter": {
          "source_hidden": true,
          "outputs_hidden": true
        }
      }
    },
    {
      "cell_type": "code",
      "source": [
        "df=df.drop(['msno','bd','num_25','num_50','num_75','num_985','num_100','num_unq','payment_method_id','date'], axis=1)"
      ],
      "outputs": [],
      "execution_count": 6,
      "metadata": {
        "gather": {
          "logged": 1650523932698
        },
        "jupyter": {
          "source_hidden": true
        }
      }
    },
    {
      "cell_type": "code",
      "source": [
        "df.dtypes"
      ],
      "outputs": [
        {
          "output_type": "execute_result",
          "execution_count": 7,
          "data": {
            "text/plain": "city                        int64\ngender                     object\nregistered_via              int64\nregistration_init_time      int64\npayment_plan_days           int64\nplan_list_price             int64\nactual_amount_paid          int64\nis_auto_renew               int64\ntransaction_date            int64\nmembership_expire_date      int64\nis_cancel                   int64\ntotal_secs                float64\nis_churn                    int64\ndtype: object"
          },
          "metadata": {}
        }
      ],
      "execution_count": 7,
      "metadata": {
        "gather": {
          "logged": 1650523933030
        },
        "jupyter": {
          "source_hidden": true,
          "outputs_hidden": true
        }
      }
    },
    {
      "cell_type": "code",
      "source": [
        "df"
      ],
      "outputs": [
        {
          "output_type": "execute_result",
          "execution_count": 8,
          "data": {
            "text/plain": "         city gender  registered_via  registration_init_time  \\\n0          13   male               9                20110918   \n1          13   male               9                20110918   \n2          13   male               9                20110918   \n3          13   male               9                20110918   \n4          13   male               9                20110918   \n...       ...    ...             ...                     ...   \n3513517     5   male               7                20151019   \n3513518     5   male               7                20151019   \n3513519     5   male               7                20151019   \n3513520     5   male               7                20151019   \n3513521     5   male               7                20151019   \n\n         payment_plan_days  plan_list_price  actual_amount_paid  \\\n0                       30              149                 149   \n1                       30              149                 149   \n2                       30              149                 149   \n3                       30              149                 149   \n4                       30              149                 149   \n...                    ...              ...                 ...   \n3513517                 30               99                  99   \n3513518                 30               99                  99   \n3513519                 30               99                  99   \n3513520                 30               99                  99   \n3513521                 30               99                  99   \n\n         is_auto_renew  transaction_date  membership_expire_date  is_cancel  \\\n0                    1          20170327                20170426          0   \n1                    1          20170327                20170426          0   \n2                    1          20170327                20170426          0   \n3                    1          20170327                20170426          0   \n4                    1          20170327                20170426          0   \n...                ...               ...                     ...        ...   \n3513517              1          20170319                20170419          0   \n3513518              1          20170319                20170419          0   \n3513519              1          20170319                20170419          0   \n3513520              1          20170319                20170419          0   \n3513521              1          20170319                20170419          0   \n\n         total_secs  is_churn  \n0          6251.930         0  \n1           886.523         0  \n2          5610.564         0  \n3             0.131         0  \n4          9543.254         0  \n...             ...       ...  \n3513517   11128.153         0  \n3513518    6698.158         0  \n3513519    5967.741         0  \n3513520   22778.409         0  \n3513521   16034.585         0  \n\n[3513522 rows x 13 columns]",
            "text/html": "<div>\n<style scoped>\n    .dataframe tbody tr th:only-of-type {\n        vertical-align: middle;\n    }\n\n    .dataframe tbody tr th {\n        vertical-align: top;\n    }\n\n    .dataframe thead th {\n        text-align: right;\n    }\n</style>\n<table border=\"1\" class=\"dataframe\">\n  <thead>\n    <tr style=\"text-align: right;\">\n      <th></th>\n      <th>city</th>\n      <th>gender</th>\n      <th>registered_via</th>\n      <th>registration_init_time</th>\n      <th>payment_plan_days</th>\n      <th>plan_list_price</th>\n      <th>actual_amount_paid</th>\n      <th>is_auto_renew</th>\n      <th>transaction_date</th>\n      <th>membership_expire_date</th>\n      <th>is_cancel</th>\n      <th>total_secs</th>\n      <th>is_churn</th>\n    </tr>\n  </thead>\n  <tbody>\n    <tr>\n      <th>0</th>\n      <td>13</td>\n      <td>male</td>\n      <td>9</td>\n      <td>20110918</td>\n      <td>30</td>\n      <td>149</td>\n      <td>149</td>\n      <td>1</td>\n      <td>20170327</td>\n      <td>20170426</td>\n      <td>0</td>\n      <td>6251.930</td>\n      <td>0</td>\n    </tr>\n    <tr>\n      <th>1</th>\n      <td>13</td>\n      <td>male</td>\n      <td>9</td>\n      <td>20110918</td>\n      <td>30</td>\n      <td>149</td>\n      <td>149</td>\n      <td>1</td>\n      <td>20170327</td>\n      <td>20170426</td>\n      <td>0</td>\n      <td>886.523</td>\n      <td>0</td>\n    </tr>\n    <tr>\n      <th>2</th>\n      <td>13</td>\n      <td>male</td>\n      <td>9</td>\n      <td>20110918</td>\n      <td>30</td>\n      <td>149</td>\n      <td>149</td>\n      <td>1</td>\n      <td>20170327</td>\n      <td>20170426</td>\n      <td>0</td>\n      <td>5610.564</td>\n      <td>0</td>\n    </tr>\n    <tr>\n      <th>3</th>\n      <td>13</td>\n      <td>male</td>\n      <td>9</td>\n      <td>20110918</td>\n      <td>30</td>\n      <td>149</td>\n      <td>149</td>\n      <td>1</td>\n      <td>20170327</td>\n      <td>20170426</td>\n      <td>0</td>\n      <td>0.131</td>\n      <td>0</td>\n    </tr>\n    <tr>\n      <th>4</th>\n      <td>13</td>\n      <td>male</td>\n      <td>9</td>\n      <td>20110918</td>\n      <td>30</td>\n      <td>149</td>\n      <td>149</td>\n      <td>1</td>\n      <td>20170327</td>\n      <td>20170426</td>\n      <td>0</td>\n      <td>9543.254</td>\n      <td>0</td>\n    </tr>\n    <tr>\n      <th>...</th>\n      <td>...</td>\n      <td>...</td>\n      <td>...</td>\n      <td>...</td>\n      <td>...</td>\n      <td>...</td>\n      <td>...</td>\n      <td>...</td>\n      <td>...</td>\n      <td>...</td>\n      <td>...</td>\n      <td>...</td>\n      <td>...</td>\n    </tr>\n    <tr>\n      <th>3513517</th>\n      <td>5</td>\n      <td>male</td>\n      <td>7</td>\n      <td>20151019</td>\n      <td>30</td>\n      <td>99</td>\n      <td>99</td>\n      <td>1</td>\n      <td>20170319</td>\n      <td>20170419</td>\n      <td>0</td>\n      <td>11128.153</td>\n      <td>0</td>\n    </tr>\n    <tr>\n      <th>3513518</th>\n      <td>5</td>\n      <td>male</td>\n      <td>7</td>\n      <td>20151019</td>\n      <td>30</td>\n      <td>99</td>\n      <td>99</td>\n      <td>1</td>\n      <td>20170319</td>\n      <td>20170419</td>\n      <td>0</td>\n      <td>6698.158</td>\n      <td>0</td>\n    </tr>\n    <tr>\n      <th>3513519</th>\n      <td>5</td>\n      <td>male</td>\n      <td>7</td>\n      <td>20151019</td>\n      <td>30</td>\n      <td>99</td>\n      <td>99</td>\n      <td>1</td>\n      <td>20170319</td>\n      <td>20170419</td>\n      <td>0</td>\n      <td>5967.741</td>\n      <td>0</td>\n    </tr>\n    <tr>\n      <th>3513520</th>\n      <td>5</td>\n      <td>male</td>\n      <td>7</td>\n      <td>20151019</td>\n      <td>30</td>\n      <td>99</td>\n      <td>99</td>\n      <td>1</td>\n      <td>20170319</td>\n      <td>20170419</td>\n      <td>0</td>\n      <td>22778.409</td>\n      <td>0</td>\n    </tr>\n    <tr>\n      <th>3513521</th>\n      <td>5</td>\n      <td>male</td>\n      <td>7</td>\n      <td>20151019</td>\n      <td>30</td>\n      <td>99</td>\n      <td>99</td>\n      <td>1</td>\n      <td>20170319</td>\n      <td>20170419</td>\n      <td>0</td>\n      <td>16034.585</td>\n      <td>0</td>\n    </tr>\n  </tbody>\n</table>\n<p>3513522 rows × 13 columns</p>\n</div>"
          },
          "metadata": {}
        }
      ],
      "execution_count": 8,
      "metadata": {
        "gather": {
          "logged": 1650523933366
        },
        "jupyter": {
          "source_hidden": true,
          "outputs_hidden": true
        }
      }
    },
    {
      "cell_type": "code",
      "source": [
        "from sklearn.preprocessing import LabelEncoder"
      ],
      "outputs": [],
      "execution_count": 9,
      "metadata": {
        "gather": {
          "logged": 1650523933710
        },
        "jupyter": {
          "source_hidden": true
        }
      }
    },
    {
      "cell_type": "code",
      "source": [
        "# creating instance of labelencoder\n",
        "labelencoder = LabelEncoder()\n",
        "# Assigning numerical values and storing in another column\n",
        "df['gender'] = labelencoder.fit_transform(df['gender'])\n",
        "df"
      ],
      "outputs": [
        {
          "output_type": "execute_result",
          "execution_count": 10,
          "data": {
            "text/plain": "         city  gender  registered_via  registration_init_time  \\\n0          13       1               9                20110918   \n1          13       1               9                20110918   \n2          13       1               9                20110918   \n3          13       1               9                20110918   \n4          13       1               9                20110918   \n...       ...     ...             ...                     ...   \n3513517     5       1               7                20151019   \n3513518     5       1               7                20151019   \n3513519     5       1               7                20151019   \n3513520     5       1               7                20151019   \n3513521     5       1               7                20151019   \n\n         payment_plan_days  plan_list_price  actual_amount_paid  \\\n0                       30              149                 149   \n1                       30              149                 149   \n2                       30              149                 149   \n3                       30              149                 149   \n4                       30              149                 149   \n...                    ...              ...                 ...   \n3513517                 30               99                  99   \n3513518                 30               99                  99   \n3513519                 30               99                  99   \n3513520                 30               99                  99   \n3513521                 30               99                  99   \n\n         is_auto_renew  transaction_date  membership_expire_date  is_cancel  \\\n0                    1          20170327                20170426          0   \n1                    1          20170327                20170426          0   \n2                    1          20170327                20170426          0   \n3                    1          20170327                20170426          0   \n4                    1          20170327                20170426          0   \n...                ...               ...                     ...        ...   \n3513517              1          20170319                20170419          0   \n3513518              1          20170319                20170419          0   \n3513519              1          20170319                20170419          0   \n3513520              1          20170319                20170419          0   \n3513521              1          20170319                20170419          0   \n\n         total_secs  is_churn  \n0          6251.930         0  \n1           886.523         0  \n2          5610.564         0  \n3             0.131         0  \n4          9543.254         0  \n...             ...       ...  \n3513517   11128.153         0  \n3513518    6698.158         0  \n3513519    5967.741         0  \n3513520   22778.409         0  \n3513521   16034.585         0  \n\n[3513522 rows x 13 columns]",
            "text/html": "<div>\n<style scoped>\n    .dataframe tbody tr th:only-of-type {\n        vertical-align: middle;\n    }\n\n    .dataframe tbody tr th {\n        vertical-align: top;\n    }\n\n    .dataframe thead th {\n        text-align: right;\n    }\n</style>\n<table border=\"1\" class=\"dataframe\">\n  <thead>\n    <tr style=\"text-align: right;\">\n      <th></th>\n      <th>city</th>\n      <th>gender</th>\n      <th>registered_via</th>\n      <th>registration_init_time</th>\n      <th>payment_plan_days</th>\n      <th>plan_list_price</th>\n      <th>actual_amount_paid</th>\n      <th>is_auto_renew</th>\n      <th>transaction_date</th>\n      <th>membership_expire_date</th>\n      <th>is_cancel</th>\n      <th>total_secs</th>\n      <th>is_churn</th>\n    </tr>\n  </thead>\n  <tbody>\n    <tr>\n      <th>0</th>\n      <td>13</td>\n      <td>1</td>\n      <td>9</td>\n      <td>20110918</td>\n      <td>30</td>\n      <td>149</td>\n      <td>149</td>\n      <td>1</td>\n      <td>20170327</td>\n      <td>20170426</td>\n      <td>0</td>\n      <td>6251.930</td>\n      <td>0</td>\n    </tr>\n    <tr>\n      <th>1</th>\n      <td>13</td>\n      <td>1</td>\n      <td>9</td>\n      <td>20110918</td>\n      <td>30</td>\n      <td>149</td>\n      <td>149</td>\n      <td>1</td>\n      <td>20170327</td>\n      <td>20170426</td>\n      <td>0</td>\n      <td>886.523</td>\n      <td>0</td>\n    </tr>\n    <tr>\n      <th>2</th>\n      <td>13</td>\n      <td>1</td>\n      <td>9</td>\n      <td>20110918</td>\n      <td>30</td>\n      <td>149</td>\n      <td>149</td>\n      <td>1</td>\n      <td>20170327</td>\n      <td>20170426</td>\n      <td>0</td>\n      <td>5610.564</td>\n      <td>0</td>\n    </tr>\n    <tr>\n      <th>3</th>\n      <td>13</td>\n      <td>1</td>\n      <td>9</td>\n      <td>20110918</td>\n      <td>30</td>\n      <td>149</td>\n      <td>149</td>\n      <td>1</td>\n      <td>20170327</td>\n      <td>20170426</td>\n      <td>0</td>\n      <td>0.131</td>\n      <td>0</td>\n    </tr>\n    <tr>\n      <th>4</th>\n      <td>13</td>\n      <td>1</td>\n      <td>9</td>\n      <td>20110918</td>\n      <td>30</td>\n      <td>149</td>\n      <td>149</td>\n      <td>1</td>\n      <td>20170327</td>\n      <td>20170426</td>\n      <td>0</td>\n      <td>9543.254</td>\n      <td>0</td>\n    </tr>\n    <tr>\n      <th>...</th>\n      <td>...</td>\n      <td>...</td>\n      <td>...</td>\n      <td>...</td>\n      <td>...</td>\n      <td>...</td>\n      <td>...</td>\n      <td>...</td>\n      <td>...</td>\n      <td>...</td>\n      <td>...</td>\n      <td>...</td>\n      <td>...</td>\n    </tr>\n    <tr>\n      <th>3513517</th>\n      <td>5</td>\n      <td>1</td>\n      <td>7</td>\n      <td>20151019</td>\n      <td>30</td>\n      <td>99</td>\n      <td>99</td>\n      <td>1</td>\n      <td>20170319</td>\n      <td>20170419</td>\n      <td>0</td>\n      <td>11128.153</td>\n      <td>0</td>\n    </tr>\n    <tr>\n      <th>3513518</th>\n      <td>5</td>\n      <td>1</td>\n      <td>7</td>\n      <td>20151019</td>\n      <td>30</td>\n      <td>99</td>\n      <td>99</td>\n      <td>1</td>\n      <td>20170319</td>\n      <td>20170419</td>\n      <td>0</td>\n      <td>6698.158</td>\n      <td>0</td>\n    </tr>\n    <tr>\n      <th>3513519</th>\n      <td>5</td>\n      <td>1</td>\n      <td>7</td>\n      <td>20151019</td>\n      <td>30</td>\n      <td>99</td>\n      <td>99</td>\n      <td>1</td>\n      <td>20170319</td>\n      <td>20170419</td>\n      <td>0</td>\n      <td>5967.741</td>\n      <td>0</td>\n    </tr>\n    <tr>\n      <th>3513520</th>\n      <td>5</td>\n      <td>1</td>\n      <td>7</td>\n      <td>20151019</td>\n      <td>30</td>\n      <td>99</td>\n      <td>99</td>\n      <td>1</td>\n      <td>20170319</td>\n      <td>20170419</td>\n      <td>0</td>\n      <td>22778.409</td>\n      <td>0</td>\n    </tr>\n    <tr>\n      <th>3513521</th>\n      <td>5</td>\n      <td>1</td>\n      <td>7</td>\n      <td>20151019</td>\n      <td>30</td>\n      <td>99</td>\n      <td>99</td>\n      <td>1</td>\n      <td>20170319</td>\n      <td>20170419</td>\n      <td>0</td>\n      <td>16034.585</td>\n      <td>0</td>\n    </tr>\n  </tbody>\n</table>\n<p>3513522 rows × 13 columns</p>\n</div>"
          },
          "metadata": {}
        }
      ],
      "execution_count": 10,
      "metadata": {
        "gather": {
          "logged": 1650523934067
        },
        "jupyter": {
          "source_hidden": true,
          "outputs_hidden": true
        }
      }
    },
    {
      "cell_type": "code",
      "source": [
        "features=df.drop('is_churn', axis=1)\n",
        "labels=df['is_churn']"
      ],
      "outputs": [],
      "execution_count": 11,
      "metadata": {
        "gather": {
          "logged": 1650523934340
        },
        "jupyter": {
          "source_hidden": true
        }
      }
    },
    {
      "cell_type": "code",
      "source": [
        "from imblearn.over_sampling import SMOTE\r\n",
        "# transform the dataset\r\n",
        "oversample = SMOTE()\r\n",
        "X, y = oversample.fit_resample(features, labels)"
      ],
      "outputs": [],
      "execution_count": 13,
      "metadata": {
        "jupyter": {
          "source_hidden": true,
          "outputs_hidden": false
        },
        "nteract": {
          "transient": {
            "deleting": false
          }
        },
        "gather": {
          "logged": 1650523947724
        }
      }
    },
    {
      "cell_type": "code",
      "source": [
        "features.dtypes"
      ],
      "outputs": [
        {
          "output_type": "execute_result",
          "execution_count": 14,
          "data": {
            "text/plain": "city                        int64\ngender                      int64\nregistered_via              int64\nregistration_init_time      int64\npayment_plan_days           int64\nplan_list_price             int64\nactual_amount_paid          int64\nis_auto_renew               int64\ntransaction_date            int64\nmembership_expire_date      int64\nis_cancel                   int64\ntotal_secs                float64\ndtype: object"
          },
          "metadata": {}
        }
      ],
      "execution_count": 14,
      "metadata": {
        "jupyter": {
          "source_hidden": true,
          "outputs_hidden": true
        },
        "nteract": {
          "transient": {
            "deleting": false
          }
        },
        "gather": {
          "logged": 1650523948006
        }
      }
    },
    {
      "cell_type": "code",
      "source": [
        "from sklearn.model_selection import train_test_split\n",
        "#Splitting data\n",
        "#Split Ratio=Training:60%, Validation:20%, Testing:20%\n",
        "X_train, X_test, y_train, y_test=train_test_split(X,y,test_size=0.4, random_state=42)\n",
        "X_test, X_val, y_test, y_val=train_test_split(X_test,y_test,test_size=0.5, random_state=42)"
      ],
      "outputs": [],
      "execution_count": 15,
      "metadata": {
        "gather": {
          "logged": 1650523950104
        }
      }
    },
    {
      "cell_type": "markdown",
      "source": [
        "## DNN Classifier "
      ],
      "metadata": {
        "nteract": {
          "transient": {
            "deleting": false
          }
        }
      }
    },
    {
      "cell_type": "code",
      "source": [
        "from __future__ import absolute_import, division, print_function, unicode_literals\n",
        "\n",
        "# TensorFlow \n",
        "import tensorflow as tf\n",
        "import tensorflow.feature_column as fc"
      ],
      "outputs": [],
      "execution_count": 16,
      "metadata": {
        "gather": {
          "logged": 1650523951740
        }
      }
    },
    {
      "cell_type": "code",
      "source": [
        "#model evaluation function\n",
        "def input_evaluation_set():\n",
        "    features=df.drop('is_churn', axis=1)\n",
        "    labels=df['is_churn']\n",
        "    return features, labels"
      ],
      "outputs": [],
      "execution_count": 17,
      "metadata": {
        "gather": {
          "logged": 1650523951961
        }
      }
    },
    {
      "cell_type": "code",
      "source": [
        "#model training function\n",
        "def input_fn(features, labels, training=True, batch_size=100):\n",
        "\n",
        "    # convert the inputs to a Dataset.\n",
        "    dataset = tf.data.Dataset.from_tensor_slices((dict(features), labels))\n",
        "\n",
        "    # shuffle and repeat dataset in model training\n",
        "    if training:\n",
        "        dataset = dataset.shuffle(1000).repeat()\n",
        "\n",
        "    return dataset.batch(batch_size)"
      ],
      "outputs": [],
      "execution_count": 18,
      "metadata": {
        "gather": {
          "logged": 1650523952207
        }
      }
    },
    {
      "cell_type": "code",
      "source": [
        "# Feature columns describe how to use the input.\n",
        "my_feature_columns = []\n",
        "for key in X_train.keys():\n",
        "    my_feature_columns.append(tf.feature_column.numeric_column(key=key))"
      ],
      "outputs": [],
      "execution_count": 19,
      "metadata": {
        "gather": {
          "logged": 1650523952556
        }
      }
    },
    {
      "cell_type": "code",
      "source": [
        "#build model\n",
        "classifier = tf.estimator.DNNClassifier(\n",
        "    feature_columns=my_feature_columns,\n",
        "    hidden_units=[30, 10],\n",
        "    n_classes=2)"
      ],
      "outputs": [
        {
          "output_type": "stream",
          "name": "stdout",
          "text": "INFO:tensorflow:Using default config.\nWARNING:tensorflow:Using temporary folder as model directory: /tmp/tmpeganmo7q\nINFO:tensorflow:Using config: {'_model_dir': '/tmp/tmpeganmo7q', '_tf_random_seed': None, '_save_summary_steps': 100, '_save_checkpoints_steps': None, '_save_checkpoints_secs': 600, '_session_config': allow_soft_placement: true\ngraph_options {\n  rewrite_options {\n    meta_optimizer_iterations: ONE\n  }\n}\n, '_keep_checkpoint_max': 5, '_keep_checkpoint_every_n_hours': 10000, '_log_step_count_steps': 100, '_train_distribute': None, '_device_fn': None, '_protocol': None, '_eval_distribute': None, '_experimental_distribute': None, '_experimental_max_worker_delay_secs': None, '_session_creation_timeout_secs': 7200, '_service': None, '_cluster_spec': ClusterSpec({}), '_task_type': 'worker', '_task_id': 0, '_global_id_in_cluster': 0, '_master': '', '_evaluation_master': '', '_is_chief': True, '_num_ps_replicas': 0, '_num_worker_replicas': 1}\n"
        }
      ],
      "execution_count": 20,
      "metadata": {
        "gather": {
          "logged": 1650523952747
        }
      }
    },
    {
      "cell_type": "markdown",
      "source": [
        "### DNN Classifier - Model Training "
      ],
      "metadata": {
        "nteract": {
          "transient": {
            "deleting": false
          }
        }
      }
    },
    {
      "cell_type": "code",
      "source": [
        "# train model\n",
        "classifier.train(\n",
        "    input_fn=lambda: input_fn(X_train, y_train, training=True),\n",
        "    steps=5000)"
      ],
      "outputs": [
        {
          "output_type": "stream",
          "name": "stdout",
          "text": "WARNING:tensorflow:From /anaconda/envs/azureml_py38/lib/python3.8/site-packages/tensorflow/python/ops/resource_variable_ops.py:1659: calling BaseResourceVariable.__init__ (from tensorflow.python.ops.resource_variable_ops) with constraint is deprecated and will be removed in a future version.\nInstructions for updating:\nIf using Keras pass *_constraint arguments to layers.\nWARNING:tensorflow:From /anaconda/envs/azureml_py38/lib/python3.8/site-packages/tensorflow/python/training/training_util.py:235: Variable.initialized_value (from tensorflow.python.ops.variables) is deprecated and will be removed in a future version.\nInstructions for updating:\nUse Variable.read_value. Variables in 2.X are initialized automatically both in eager and graph (inside tf.defun) contexts.\nINFO:tensorflow:Calling model_fn.\nWARNING:tensorflow:Layer dnn is casting an input tensor from dtype float64 to the layer's dtype of float32, which is new behavior in TensorFlow 2.  The layer has dtype float32 because it's dtype defaults to floatx.\n\nIf you intended to run this layer in float32, you can safely ignore this warning. If in doubt, this warning is likely only an issue if you are porting a TensorFlow 1.X model to TensorFlow 2.\n\nTo change all layers to have dtype float64 by default, call `tf.keras.backend.set_floatx('float64')`. To change just this layer, pass dtype='float64' to the layer constructor. If you are the author of this layer, you can disable autocasting by passing autocast=False to the base Layer constructor.\n\nWARNING:tensorflow:From /anaconda/envs/azureml_py38/lib/python3.8/site-packages/tensorflow/python/keras/optimizer_v2/adagrad.py:105: calling Constant.__init__ (from tensorflow.python.ops.init_ops) with dtype is deprecated and will be removed in a future version.\nInstructions for updating:\nCall initializer instance with the dtype argument instead of passing it to the constructor\nINFO:tensorflow:Done calling model_fn.\nINFO:tensorflow:Create CheckpointSaverHook.\nINFO:tensorflow:Graph was finalized.\nINFO:tensorflow:Running local_init_op.\nINFO:tensorflow:Done running local_init_op.\nINFO:tensorflow:Calling checkpoint listeners before saving checkpoint 0...\nINFO:tensorflow:Saving checkpoints for 0 into /tmp/tmpeganmo7q/model.ckpt.\nINFO:tensorflow:Calling checkpoint listeners after saving checkpoint 0...\nINFO:tensorflow:loss = 177309.8, step = 0\nINFO:tensorflow:global_step/sec: 452.781\nINFO:tensorflow:loss = 7888.3423, step = 100 (0.222 sec)\nINFO:tensorflow:global_step/sec: 666.81\nINFO:tensorflow:loss = 1133.9485, step = 200 (0.150 sec)\nINFO:tensorflow:global_step/sec: 646.971\nINFO:tensorflow:loss = 5933.489, step = 300 (0.155 sec)\nINFO:tensorflow:global_step/sec: 653.726\nINFO:tensorflow:loss = 3337.7737, step = 400 (0.153 sec)\nINFO:tensorflow:global_step/sec: 660.059\nINFO:tensorflow:loss = 3610.2554, step = 500 (0.152 sec)\nINFO:tensorflow:global_step/sec: 651.643\nINFO:tensorflow:loss = 3140.7693, step = 600 (0.153 sec)\nINFO:tensorflow:global_step/sec: 663.228\nINFO:tensorflow:loss = 1230.4547, step = 700 (0.151 sec)\nINFO:tensorflow:global_step/sec: 651.072\nINFO:tensorflow:loss = 3149.7656, step = 800 (0.155 sec)\nINFO:tensorflow:global_step/sec: 615.821\nINFO:tensorflow:loss = 792.38116, step = 900 (0.161 sec)\nINFO:tensorflow:global_step/sec: 617.123\nINFO:tensorflow:loss = 3575.5974, step = 1000 (0.162 sec)\nINFO:tensorflow:global_step/sec: 658.145\nINFO:tensorflow:loss = 2883.086, step = 1100 (0.152 sec)\nINFO:tensorflow:global_step/sec: 649.102\nINFO:tensorflow:loss = 1193.1425, step = 1200 (0.154 sec)\nINFO:tensorflow:global_step/sec: 605.337\nINFO:tensorflow:loss = 1769.8896, step = 1300 (0.166 sec)\nINFO:tensorflow:global_step/sec: 651.304\nINFO:tensorflow:loss = 2274.4417, step = 1400 (0.152 sec)\nINFO:tensorflow:global_step/sec: 658.184\nINFO:tensorflow:loss = 2406.7532, step = 1500 (0.152 sec)\nINFO:tensorflow:global_step/sec: 654.386\nINFO:tensorflow:loss = 1765.4862, step = 1600 (0.153 sec)\nINFO:tensorflow:global_step/sec: 658.062\nINFO:tensorflow:loss = 1538.5167, step = 1700 (0.152 sec)\nINFO:tensorflow:global_step/sec: 657.082\nINFO:tensorflow:loss = 913.7336, step = 1800 (0.152 sec)\nINFO:tensorflow:global_step/sec: 663.136\nINFO:tensorflow:loss = 1204.5208, step = 1900 (0.152 sec)\nINFO:tensorflow:global_step/sec: 646.574\nINFO:tensorflow:loss = 1049.1405, step = 2000 (0.154 sec)\nINFO:tensorflow:global_step/sec: 654.34\nINFO:tensorflow:loss = 1558.0837, step = 2100 (0.153 sec)\nINFO:tensorflow:global_step/sec: 653.867\nINFO:tensorflow:loss = 1789.7588, step = 2200 (0.155 sec)\nINFO:tensorflow:global_step/sec: 642.908\nINFO:tensorflow:loss = 1044.2169, step = 2300 (0.154 sec)\nINFO:tensorflow:global_step/sec: 658.368\nINFO:tensorflow:loss = 1454.7572, step = 2400 (0.152 sec)\nINFO:tensorflow:global_step/sec: 659.064\nINFO:tensorflow:loss = 737.66656, step = 2500 (0.152 sec)\nINFO:tensorflow:global_step/sec: 643.133\nINFO:tensorflow:loss = 1234.3043, step = 2600 (0.156 sec)\nINFO:tensorflow:global_step/sec: 652.497\nINFO:tensorflow:loss = 993.7287, step = 2700 (0.153 sec)\nINFO:tensorflow:global_step/sec: 622.784\nINFO:tensorflow:loss = 1272.4487, step = 2800 (0.161 sec)\nINFO:tensorflow:global_step/sec: 612.662\nINFO:tensorflow:loss = 2202.9072, step = 2900 (0.163 sec)\nINFO:tensorflow:global_step/sec: 625.37\nINFO:tensorflow:loss = 1135.5784, step = 3000 (0.160 sec)\nINFO:tensorflow:global_step/sec: 642.728\nINFO:tensorflow:loss = 1463.658, step = 3100 (0.155 sec)\nINFO:tensorflow:global_step/sec: 648.598\nINFO:tensorflow:loss = 475.25958, step = 3200 (0.155 sec)\nINFO:tensorflow:global_step/sec: 645.46\nINFO:tensorflow:loss = 979.3384, step = 3300 (0.155 sec)\nINFO:tensorflow:global_step/sec: 601.02\nINFO:tensorflow:loss = 768.17065, step = 3400 (0.166 sec)\nINFO:tensorflow:global_step/sec: 641.159\nINFO:tensorflow:loss = 922.41406, step = 3500 (0.156 sec)\nINFO:tensorflow:global_step/sec: 634.636\nINFO:tensorflow:loss = 1311.7603, step = 3600 (0.157 sec)\nINFO:tensorflow:global_step/sec: 624.264\nINFO:tensorflow:loss = 1480.6421, step = 3700 (0.160 sec)\nINFO:tensorflow:global_step/sec: 641.771\nINFO:tensorflow:loss = 1225.6527, step = 3800 (0.156 sec)\nINFO:tensorflow:global_step/sec: 613.246\nINFO:tensorflow:loss = 1551.9661, step = 3900 (0.164 sec)\nINFO:tensorflow:global_step/sec: 604.678\nINFO:tensorflow:loss = 1010.9393, step = 4000 (0.165 sec)\nINFO:tensorflow:global_step/sec: 621.089\nINFO:tensorflow:loss = 952.6824, step = 4100 (0.161 sec)\nINFO:tensorflow:global_step/sec: 647.079\nINFO:tensorflow:loss = 783.71265, step = 4200 (0.158 sec)\nINFO:tensorflow:global_step/sec: 608.492\nINFO:tensorflow:loss = 857.49945, step = 4300 (0.161 sec)\nINFO:tensorflow:global_step/sec: 632.801\nINFO:tensorflow:loss = 884.9542, step = 4400 (0.158 sec)\nINFO:tensorflow:global_step/sec: 627.369\nINFO:tensorflow:loss = 558.9139, step = 4500 (0.159 sec)\nINFO:tensorflow:global_step/sec: 645.881\nINFO:tensorflow:loss = 633.47833, step = 4600 (0.156 sec)\nINFO:tensorflow:global_step/sec: 624.707\nINFO:tensorflow:loss = 939.4034, step = 4700 (0.159 sec)\nINFO:tensorflow:global_step/sec: 641.778\nINFO:tensorflow:loss = 491.7282, step = 4800 (0.156 sec)\nINFO:tensorflow:global_step/sec: 643.839\nINFO:tensorflow:loss = 1285.6533, step = 4900 (0.155 sec)\nINFO:tensorflow:Calling checkpoint listeners before saving checkpoint 5000...\nINFO:tensorflow:Saving checkpoints for 5000 into /tmp/tmpeganmo7q/model.ckpt.\nINFO:tensorflow:Calling checkpoint listeners after saving checkpoint 5000...\nINFO:tensorflow:Loss for final step: 1038.785.\n"
        },
        {
          "output_type": "execute_result",
          "execution_count": 21,
          "data": {
            "text/plain": "<tensorflow_estimator.python.estimator.canned.dnn.DNNClassifierV2 at 0x7f7826543040>"
          },
          "metadata": {}
        }
      ],
      "execution_count": 21,
      "metadata": {
        "gather": {
          "logged": 1650524037282
        }
      }
    },
    {
      "cell_type": "markdown",
      "source": [
        "### DNN Classifier - Model Evaluation"
      ],
      "metadata": {
        "nteract": {
          "transient": {
            "deleting": false
          }
        }
      }
    },
    {
      "cell_type": "code",
      "source": [
        "eval_result = classifier.evaluate(\n",
        "    input_fn=lambda: input_fn(X_test, y_test, training=False))\n",
        "\n",
        "print('\\nTest set accuracy: {accuracy:0.3f}\\n'.format(**eval_result))"
      ],
      "outputs": [
        {
          "output_type": "stream",
          "name": "stdout",
          "text": "INFO:tensorflow:Calling model_fn.\nWARNING:tensorflow:Layer dnn is casting an input tensor from dtype float64 to the layer's dtype of float32, which is new behavior in TensorFlow 2.  The layer has dtype float32 because it's dtype defaults to floatx.\n\nIf you intended to run this layer in float32, you can safely ignore this warning. If in doubt, this warning is likely only an issue if you are porting a TensorFlow 1.X model to TensorFlow 2.\n\nTo change all layers to have dtype float64 by default, call `tf.keras.backend.set_floatx('float64')`. To change just this layer, pass dtype='float64' to the layer constructor. If you are the author of this layer, you can disable autocasting by passing autocast=False to the base Layer constructor.\n\nINFO:tensorflow:Done calling model_fn.\nINFO:tensorflow:Starting evaluation at 2022-04-21T06:53:02Z\nINFO:tensorflow:Graph was finalized.\nINFO:tensorflow:Restoring parameters from /tmp/tmpeganmo7q/model.ckpt-5000\nINFO:tensorflow:Running local_init_op.\nINFO:tensorflow:Done running local_init_op.\nINFO:tensorflow:Inference Time : 21.08287s\nINFO:tensorflow:Finished evaluation at 2022-04-21-06:53:23\nINFO:tensorflow:Saving dict for global step 5000: accuracy = 0.5090992, accuracy_baseline = 0.5005689, auc = 0.50943494, auc_precision_recall = 0.5050638, average_loss = 681.40015, global_step = 5000, label/mean = 0.4994311, loss = 681.40015, precision = 0.5060094, prediction/mean = 0.7097468, recall = 0.7190924\nINFO:tensorflow:Saving 'checkpoint_path' summary for global step 5000: /tmp/tmpeganmo7q/model.ckpt-5000\n\nTest set accuracy: 0.509\n\n"
        }
      ],
      "execution_count": 22,
      "metadata": {
        "gather": {
          "logged": 1650524060433
        }
      }
    },
    {
      "cell_type": "markdown",
      "source": [
        "## Keras Neural Network"
      ],
      "metadata": {
        "nteract": {
          "transient": {
            "deleting": false
          }
        }
      }
    },
    {
      "cell_type": "code",
      "source": [
        "#import packages\n",
        "import tensorflow as tf\n",
        "from tensorflow.keras.models import Sequential\n",
        "from tensorflow.keras.layers import Flatten, Dense, Dropout"
      ],
      "outputs": [],
      "execution_count": 28,
      "metadata": {
        "gather": {
          "logged": 1650524866361
        }
      }
    },
    {
      "cell_type": "code",
      "source": [
        "#build sequential model\n",
        "sequential_model = Sequential([\n",
        "  Flatten(input_shape=(12,)),\n",
        "  Dense(512, activation=tf.nn.relu),\n",
        "  Dense(200, activation=tf.nn.relu),\n",
        "  Dense(100, activation=tf.nn.relu),\n",
        "  Dense(2, activation=tf.nn.softmax)\n",
        "])"
      ],
      "outputs": [],
      "execution_count": 29,
      "metadata": {
        "gather": {
          "logged": 1650524866662
        }
      }
    },
    {
      "cell_type": "code",
      "source": [
        "#compile model\n",
        "sequential_model.compile(optimizer='adam',\n",
        "              loss='binary_crossentropy',\n",
        "              metrics=['accuracy'])"
      ],
      "outputs": [],
      "execution_count": 30,
      "metadata": {
        "gather": {
          "logged": 1650524867111
        }
      }
    },
    {
      "cell_type": "code",
      "source": [
        "from tensorflow.keras.callbacks import EarlyStopping\r\n",
        "early_stop =EarlyStopping(patience=3)"
      ],
      "outputs": [],
      "execution_count": 31,
      "metadata": {
        "jupyter": {
          "source_hidden": false,
          "outputs_hidden": false
        },
        "nteract": {
          "transient": {
            "deleting": false
          }
        },
        "gather": {
          "logged": 1650524867441
        }
      }
    },
    {
      "cell_type": "markdown",
      "source": [
        "### Keras Neural Network - Model Training and Evaluation"
      ],
      "metadata": {
        "nteract": {
          "transient": {
            "deleting": false
          }
        }
      }
    },
    {
      "cell_type": "code",
      "source": [
        "#train model\n",
        "history=sequential_model.fit(X_train, y_train,validation_data=(X_test, y_test),epochs=5,callbacks=[early_stop])\n",
        "#model.fit(X_train, y_train,validation_data=(X_test, y_test)"
      ],
      "outputs": [
        {
          "output_type": "stream",
          "name": "stdout",
          "text": "Epoch 1/5\n116344/116344 [==============================] - 220s 2ms/step - loss: 7.6741 - accuracy: 0.5001 - val_loss: 7.6681 - val_accuracy: 0.4994\b\b\b\b\b\b\b\b\b\b\b\b\b\b\b\b\b\b\b\b\b\b\b\b\b\b\b\b\b\b\b\b\b\b\b\b\b\b\b\b\b\b\b\b\b\b\nEpoch 2/5\n116344/116344 [==============================] - 224s 2ms/step - loss: 7.6741 - accuracy: 0.5001 - val_loss: 7.6681 - val_accuracy: 0.4994\b\b\b\b\b\b\b\b\b\b\b\b\b\b\b\b\b\b\b\b\b\b\b\b\b\b\b\b\b\b\b\b\b\b\b\b\b\b\b\b\b\b\b\b\b\b\nEpoch 3/5\n116344/116344 [==============================] - 224s 2ms/step - loss: 7.6740 - accuracy: 0.5001 - val_loss: 7.6681 - val_accuracy: 0.4994\b\b\b\b\b\b\b\b\b\b\b\b\b\b\b\b\b\b\b\b\b\b\b\b\b\b\b\b\b\b\b\b\b\b\b\b\b\b\b\b\b\b\b\b\b\b\nEpoch 4/5\n116344/116344 [==============================] - 222s 2ms/step - loss: 7.6740 - accuracy: 0.5001 - val_loss: 7.6681 - val_accuracy: 0.4994\b\b\b\b\b\b\b\b\b\b\b\b\b\b\b\b\b\b\b\b\b\b\b\b\b\b\b\b\b\b\b\b\b\b\b\b\b\b\b\b\b\b\b\b\b\b\n"
        }
      ],
      "execution_count": 33,
      "metadata": {
        "gather": {
          "logged": 1650526205424
        }
      }
    }
  ],
  "metadata": {
    "kernelspec": {
      "name": "python3",
      "language": "python",
      "display_name": "Python 3"
    },
    "language_info": {
      "name": "python",
      "version": "3.8.5",
      "mimetype": "text/x-python",
      "codemirror_mode": {
        "name": "ipython",
        "version": 3
      },
      "pygments_lexer": "ipython3",
      "nbconvert_exporter": "python",
      "file_extension": ".py"
    },
    "kernel_info": {
      "name": "python3"
    },
    "nteract": {
      "version": "nteract-front-end@1.0.0"
    },
    "microsoft": {
      "host": {
        "AzureML": {
          "notebookHasBeenCompleted": true
        }
      }
    }
  },
  "nbformat": 4,
  "nbformat_minor": 4
}