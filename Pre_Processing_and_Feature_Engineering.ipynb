{
  "nbformat": 4,
  "nbformat_minor": 0,
  "metadata": {
    "colab": {
      "name": "Pre Processing and Feature Engineering.ipynb",
      "provenance": []
    },
    "kernelspec": {
      "name": "python3",
      "display_name": "Python 3"
    },
    "language_info": {
      "name": "python"
    }
  },
  "cells": [
    {
      "cell_type": "code",
      "execution_count": null,
      "metadata": {
        "colab": {
          "base_uri": "https://localhost:8080/"
        },
        "id": "ePPkGfkb_axd",
        "outputId": "03a1f93f-0f38-4699-836c-f9cfd2fc3fbd"
      },
      "outputs": [
        {
          "output_type": "stream",
          "name": "stdout",
          "text": [
            "Mounted at /content/drive/\n"
          ]
        }
      ],
      "source": [
        "import pandas as pd\n",
        "import pandas_profiling\n",
        "import numpy as np\n",
        "\n",
        "#importing dataset\n",
        "from google.colab import drive\n",
        "drive.mount('/content/drive/')"
      ]
    },
    {
      "cell_type": "code",
      "source": [
        "df = pd.read_csv('/content/drive/MyDrive/output.csv')"
      ],
      "metadata": {
        "id": "kwbUDuYz_nqa"
      },
      "execution_count": null,
      "outputs": []
    },
    {
      "cell_type": "code",
      "source": [
        "df.head(5) "
      ],
      "metadata": {
        "colab": {
          "base_uri": "https://localhost:8080/",
          "height": 300
        },
        "id": "ry4slOTn_xgm",
        "outputId": "7cdebeb8-d43a-446c-8001-afc1e5036931"
      },
      "execution_count": null,
      "outputs": [
        {
          "output_type": "execute_result",
          "data": {
            "text/plain": [
              "                                           msno  city  bd gender  \\\n",
              "0  I0yFvqMoNkM8ZNHb617e1RBzIS/YRKemHO7Wj13EtA0=    13  63   male   \n",
              "1  I0yFvqMoNkM8ZNHb617e1RBzIS/YRKemHO7Wj13EtA0=    13  63   male   \n",
              "2  I0yFvqMoNkM8ZNHb617e1RBzIS/YRKemHO7Wj13EtA0=    13  63   male   \n",
              "3  I0yFvqMoNkM8ZNHb617e1RBzIS/YRKemHO7Wj13EtA0=    13  63   male   \n",
              "4  I0yFvqMoNkM8ZNHb617e1RBzIS/YRKemHO7Wj13EtA0=    13  63   male   \n",
              "\n",
              "   registered_via  registration_init_time  \\\n",
              "0               9                20110918   \n",
              "1               9                20110918   \n",
              "2               9                20110918   \n",
              "3               9                20110918   \n",
              "4               9                20110918   \n",
              "\n",
              "                                         msno_R  payment_method_id  \\\n",
              "0  I0yFvqMoNkM8ZNHb617e1RBzIS/YRKemHO7Wj13EtA0=                 40   \n",
              "1  I0yFvqMoNkM8ZNHb617e1RBzIS/YRKemHO7Wj13EtA0=                 40   \n",
              "2  I0yFvqMoNkM8ZNHb617e1RBzIS/YRKemHO7Wj13EtA0=                 40   \n",
              "3  I0yFvqMoNkM8ZNHb617e1RBzIS/YRKemHO7Wj13EtA0=                 40   \n",
              "4  I0yFvqMoNkM8ZNHb617e1RBzIS/YRKemHO7Wj13EtA0=                 40   \n",
              "\n",
              "   payment_plan_days  plan_list_price  ...      date  num_25  num_50  num_75  \\\n",
              "0                 30              149  ...  20170329       0       0       0   \n",
              "1                 30              149  ...  20170322       1       0       0   \n",
              "2                 30              149  ...  20170313       9       8       5   \n",
              "3                 30              149  ...  20170319       1       0       0   \n",
              "4                 30              149  ...  20170323       1       0       1   \n",
              "\n",
              "   num_985 num_100  num_unq  total_secs  \\\n",
              "0        0      24       19    6251.930   \n",
              "1        0       4        3     886.523   \n",
              "2        8       6       33    5610.564   \n",
              "3        0       0        1       0.131   \n",
              "4        0      38       32    9543.254   \n",
              "\n",
              "                                        msno_R2  is_churn  \n",
              "0  I0yFvqMoNkM8ZNHb617e1RBzIS/YRKemHO7Wj13EtA0=         0  \n",
              "1  I0yFvqMoNkM8ZNHb617e1RBzIS/YRKemHO7Wj13EtA0=         0  \n",
              "2  I0yFvqMoNkM8ZNHb617e1RBzIS/YRKemHO7Wj13EtA0=         0  \n",
              "3  I0yFvqMoNkM8ZNHb617e1RBzIS/YRKemHO7Wj13EtA0=         0  \n",
              "4  I0yFvqMoNkM8ZNHb617e1RBzIS/YRKemHO7Wj13EtA0=         0  \n",
              "\n",
              "[5 rows x 26 columns]"
            ],
            "text/html": [
              "\n",
              "  <div id=\"df-44e84534-38d7-4733-bb82-f43971cab303\">\n",
              "    <div class=\"colab-df-container\">\n",
              "      <div>\n",
              "<style scoped>\n",
              "    .dataframe tbody tr th:only-of-type {\n",
              "        vertical-align: middle;\n",
              "    }\n",
              "\n",
              "    .dataframe tbody tr th {\n",
              "        vertical-align: top;\n",
              "    }\n",
              "\n",
              "    .dataframe thead th {\n",
              "        text-align: right;\n",
              "    }\n",
              "</style>\n",
              "<table border=\"1\" class=\"dataframe\">\n",
              "  <thead>\n",
              "    <tr style=\"text-align: right;\">\n",
              "      <th></th>\n",
              "      <th>msno</th>\n",
              "      <th>city</th>\n",
              "      <th>bd</th>\n",
              "      <th>gender</th>\n",
              "      <th>registered_via</th>\n",
              "      <th>registration_init_time</th>\n",
              "      <th>msno_R</th>\n",
              "      <th>payment_method_id</th>\n",
              "      <th>payment_plan_days</th>\n",
              "      <th>plan_list_price</th>\n",
              "      <th>...</th>\n",
              "      <th>date</th>\n",
              "      <th>num_25</th>\n",
              "      <th>num_50</th>\n",
              "      <th>num_75</th>\n",
              "      <th>num_985</th>\n",
              "      <th>num_100</th>\n",
              "      <th>num_unq</th>\n",
              "      <th>total_secs</th>\n",
              "      <th>msno_R2</th>\n",
              "      <th>is_churn</th>\n",
              "    </tr>\n",
              "  </thead>\n",
              "  <tbody>\n",
              "    <tr>\n",
              "      <th>0</th>\n",
              "      <td>I0yFvqMoNkM8ZNHb617e1RBzIS/YRKemHO7Wj13EtA0=</td>\n",
              "      <td>13</td>\n",
              "      <td>63</td>\n",
              "      <td>male</td>\n",
              "      <td>9</td>\n",
              "      <td>20110918</td>\n",
              "      <td>I0yFvqMoNkM8ZNHb617e1RBzIS/YRKemHO7Wj13EtA0=</td>\n",
              "      <td>40</td>\n",
              "      <td>30</td>\n",
              "      <td>149</td>\n",
              "      <td>...</td>\n",
              "      <td>20170329</td>\n",
              "      <td>0</td>\n",
              "      <td>0</td>\n",
              "      <td>0</td>\n",
              "      <td>0</td>\n",
              "      <td>24</td>\n",
              "      <td>19</td>\n",
              "      <td>6251.930</td>\n",
              "      <td>I0yFvqMoNkM8ZNHb617e1RBzIS/YRKemHO7Wj13EtA0=</td>\n",
              "      <td>0</td>\n",
              "    </tr>\n",
              "    <tr>\n",
              "      <th>1</th>\n",
              "      <td>I0yFvqMoNkM8ZNHb617e1RBzIS/YRKemHO7Wj13EtA0=</td>\n",
              "      <td>13</td>\n",
              "      <td>63</td>\n",
              "      <td>male</td>\n",
              "      <td>9</td>\n",
              "      <td>20110918</td>\n",
              "      <td>I0yFvqMoNkM8ZNHb617e1RBzIS/YRKemHO7Wj13EtA0=</td>\n",
              "      <td>40</td>\n",
              "      <td>30</td>\n",
              "      <td>149</td>\n",
              "      <td>...</td>\n",
              "      <td>20170322</td>\n",
              "      <td>1</td>\n",
              "      <td>0</td>\n",
              "      <td>0</td>\n",
              "      <td>0</td>\n",
              "      <td>4</td>\n",
              "      <td>3</td>\n",
              "      <td>886.523</td>\n",
              "      <td>I0yFvqMoNkM8ZNHb617e1RBzIS/YRKemHO7Wj13EtA0=</td>\n",
              "      <td>0</td>\n",
              "    </tr>\n",
              "    <tr>\n",
              "      <th>2</th>\n",
              "      <td>I0yFvqMoNkM8ZNHb617e1RBzIS/YRKemHO7Wj13EtA0=</td>\n",
              "      <td>13</td>\n",
              "      <td>63</td>\n",
              "      <td>male</td>\n",
              "      <td>9</td>\n",
              "      <td>20110918</td>\n",
              "      <td>I0yFvqMoNkM8ZNHb617e1RBzIS/YRKemHO7Wj13EtA0=</td>\n",
              "      <td>40</td>\n",
              "      <td>30</td>\n",
              "      <td>149</td>\n",
              "      <td>...</td>\n",
              "      <td>20170313</td>\n",
              "      <td>9</td>\n",
              "      <td>8</td>\n",
              "      <td>5</td>\n",
              "      <td>8</td>\n",
              "      <td>6</td>\n",
              "      <td>33</td>\n",
              "      <td>5610.564</td>\n",
              "      <td>I0yFvqMoNkM8ZNHb617e1RBzIS/YRKemHO7Wj13EtA0=</td>\n",
              "      <td>0</td>\n",
              "    </tr>\n",
              "    <tr>\n",
              "      <th>3</th>\n",
              "      <td>I0yFvqMoNkM8ZNHb617e1RBzIS/YRKemHO7Wj13EtA0=</td>\n",
              "      <td>13</td>\n",
              "      <td>63</td>\n",
              "      <td>male</td>\n",
              "      <td>9</td>\n",
              "      <td>20110918</td>\n",
              "      <td>I0yFvqMoNkM8ZNHb617e1RBzIS/YRKemHO7Wj13EtA0=</td>\n",
              "      <td>40</td>\n",
              "      <td>30</td>\n",
              "      <td>149</td>\n",
              "      <td>...</td>\n",
              "      <td>20170319</td>\n",
              "      <td>1</td>\n",
              "      <td>0</td>\n",
              "      <td>0</td>\n",
              "      <td>0</td>\n",
              "      <td>0</td>\n",
              "      <td>1</td>\n",
              "      <td>0.131</td>\n",
              "      <td>I0yFvqMoNkM8ZNHb617e1RBzIS/YRKemHO7Wj13EtA0=</td>\n",
              "      <td>0</td>\n",
              "    </tr>\n",
              "    <tr>\n",
              "      <th>4</th>\n",
              "      <td>I0yFvqMoNkM8ZNHb617e1RBzIS/YRKemHO7Wj13EtA0=</td>\n",
              "      <td>13</td>\n",
              "      <td>63</td>\n",
              "      <td>male</td>\n",
              "      <td>9</td>\n",
              "      <td>20110918</td>\n",
              "      <td>I0yFvqMoNkM8ZNHb617e1RBzIS/YRKemHO7Wj13EtA0=</td>\n",
              "      <td>40</td>\n",
              "      <td>30</td>\n",
              "      <td>149</td>\n",
              "      <td>...</td>\n",
              "      <td>20170323</td>\n",
              "      <td>1</td>\n",
              "      <td>0</td>\n",
              "      <td>1</td>\n",
              "      <td>0</td>\n",
              "      <td>38</td>\n",
              "      <td>32</td>\n",
              "      <td>9543.254</td>\n",
              "      <td>I0yFvqMoNkM8ZNHb617e1RBzIS/YRKemHO7Wj13EtA0=</td>\n",
              "      <td>0</td>\n",
              "    </tr>\n",
              "  </tbody>\n",
              "</table>\n",
              "<p>5 rows × 26 columns</p>\n",
              "</div>\n",
              "      <button class=\"colab-df-convert\" onclick=\"convertToInteractive('df-44e84534-38d7-4733-bb82-f43971cab303')\"\n",
              "              title=\"Convert this dataframe to an interactive table.\"\n",
              "              style=\"display:none;\">\n",
              "        \n",
              "  <svg xmlns=\"http://www.w3.org/2000/svg\" height=\"24px\"viewBox=\"0 0 24 24\"\n",
              "       width=\"24px\">\n",
              "    <path d=\"M0 0h24v24H0V0z\" fill=\"none\"/>\n",
              "    <path d=\"M18.56 5.44l.94 2.06.94-2.06 2.06-.94-2.06-.94-.94-2.06-.94 2.06-2.06.94zm-11 1L8.5 8.5l.94-2.06 2.06-.94-2.06-.94L8.5 2.5l-.94 2.06-2.06.94zm10 10l.94 2.06.94-2.06 2.06-.94-2.06-.94-.94-2.06-.94 2.06-2.06.94z\"/><path d=\"M17.41 7.96l-1.37-1.37c-.4-.4-.92-.59-1.43-.59-.52 0-1.04.2-1.43.59L10.3 9.45l-7.72 7.72c-.78.78-.78 2.05 0 2.83L4 21.41c.39.39.9.59 1.41.59.51 0 1.02-.2 1.41-.59l7.78-7.78 2.81-2.81c.8-.78.8-2.07 0-2.86zM5.41 20L4 18.59l7.72-7.72 1.47 1.35L5.41 20z\"/>\n",
              "  </svg>\n",
              "      </button>\n",
              "      \n",
              "  <style>\n",
              "    .colab-df-container {\n",
              "      display:flex;\n",
              "      flex-wrap:wrap;\n",
              "      gap: 12px;\n",
              "    }\n",
              "\n",
              "    .colab-df-convert {\n",
              "      background-color: #E8F0FE;\n",
              "      border: none;\n",
              "      border-radius: 50%;\n",
              "      cursor: pointer;\n",
              "      display: none;\n",
              "      fill: #1967D2;\n",
              "      height: 32px;\n",
              "      padding: 0 0 0 0;\n",
              "      width: 32px;\n",
              "    }\n",
              "\n",
              "    .colab-df-convert:hover {\n",
              "      background-color: #E2EBFA;\n",
              "      box-shadow: 0px 1px 2px rgba(60, 64, 67, 0.3), 0px 1px 3px 1px rgba(60, 64, 67, 0.15);\n",
              "      fill: #174EA6;\n",
              "    }\n",
              "\n",
              "    [theme=dark] .colab-df-convert {\n",
              "      background-color: #3B4455;\n",
              "      fill: #D2E3FC;\n",
              "    }\n",
              "\n",
              "    [theme=dark] .colab-df-convert:hover {\n",
              "      background-color: #434B5C;\n",
              "      box-shadow: 0px 1px 3px 1px rgba(0, 0, 0, 0.15);\n",
              "      filter: drop-shadow(0px 1px 2px rgba(0, 0, 0, 0.3));\n",
              "      fill: #FFFFFF;\n",
              "    }\n",
              "  </style>\n",
              "\n",
              "      <script>\n",
              "        const buttonEl =\n",
              "          document.querySelector('#df-44e84534-38d7-4733-bb82-f43971cab303 button.colab-df-convert');\n",
              "        buttonEl.style.display =\n",
              "          google.colab.kernel.accessAllowed ? 'block' : 'none';\n",
              "\n",
              "        async function convertToInteractive(key) {\n",
              "          const element = document.querySelector('#df-44e84534-38d7-4733-bb82-f43971cab303');\n",
              "          const dataTable =\n",
              "            await google.colab.kernel.invokeFunction('convertToInteractive',\n",
              "                                                     [key], {});\n",
              "          if (!dataTable) return;\n",
              "\n",
              "          const docLinkHtml = 'Like what you see? Visit the ' +\n",
              "            '<a target=\"_blank\" href=https://colab.research.google.com/notebooks/data_table.ipynb>data table notebook</a>'\n",
              "            + ' to learn more about interactive tables.';\n",
              "          element.innerHTML = '';\n",
              "          dataTable['output_type'] = 'display_data';\n",
              "          await google.colab.output.renderOutput(dataTable, element);\n",
              "          const docLink = document.createElement('div');\n",
              "          docLink.innerHTML = docLinkHtml;\n",
              "          element.appendChild(docLink);\n",
              "        }\n",
              "      </script>\n",
              "    </div>\n",
              "  </div>\n",
              "  "
            ]
          },
          "metadata": {},
          "execution_count": 3
        }
      ]
    },
    {
      "cell_type": "code",
      "source": [
        "df.dtypes"
      ],
      "metadata": {
        "colab": {
          "base_uri": "https://localhost:8080/"
        },
        "id": "YdUP4nNJ_5P5",
        "outputId": "19abc184-6ba4-4c83-c114-7bff7f9bbc95"
      },
      "execution_count": null,
      "outputs": [
        {
          "output_type": "execute_result",
          "data": {
            "text/plain": [
              "msno                       object\n",
              "city                        int64\n",
              "bd                          int64\n",
              "gender                     object\n",
              "registered_via              int64\n",
              "registration_init_time      int64\n",
              "msno_R                     object\n",
              "payment_method_id           int64\n",
              "payment_plan_days           int64\n",
              "plan_list_price             int64\n",
              "actual_amount_paid          int64\n",
              "is_auto_renew               int64\n",
              "transaction_date            int64\n",
              "membership_expire_date      int64\n",
              "is_cancel                   int64\n",
              "msno_R1                    object\n",
              "date                        int64\n",
              "num_25                      int64\n",
              "num_50                      int64\n",
              "num_75                      int64\n",
              "num_985                     int64\n",
              "num_100                     int64\n",
              "num_unq                     int64\n",
              "total_secs                float64\n",
              "msno_R2                    object\n",
              "is_churn                    int64\n",
              "dtype: object"
            ]
          },
          "metadata": {},
          "execution_count": 4
        }
      ]
    },
    {
      "cell_type": "markdown",
      "source": [
        "Dropping unwated features from the dataset"
      ],
      "metadata": {
        "id": "CHnOloi2CsHh"
      }
    },
    {
      "cell_type": "code",
      "source": [
        "df=df.drop(['msno','bd','msno_R','msno_R1','num_25','num_50','num_75','num_985','num_100','num_unq','msno_R2','payment_method_id','date'], axis=1)"
      ],
      "metadata": {
        "id": "t4Xq_oLe_5Yp"
      },
      "execution_count": null,
      "outputs": []
    },
    {
      "cell_type": "markdown",
      "source": [
        " Encoding  catergorcial variables found in the dataset"
      ],
      "metadata": {
        "id": "WbaL-TbEDEYt"
      }
    },
    {
      "cell_type": "code",
      "source": [
        "from sklearn.preprocessing import LabelEncoder\n",
        "\n",
        "# creating instance of labelencoder\n",
        "labelencoder = LabelEncoder()\n",
        "# Assigning numerical values and storing in another column\n",
        "df['gender'] = labelencoder.fit_transform(df['gender'])"
      ],
      "metadata": {
        "id": "TLan8z_b_5bN"
      },
      "execution_count": null,
      "outputs": []
    },
    {
      "cell_type": "markdown",
      "source": [
        "Spilting Target Feature "
      ],
      "metadata": {
        "id": "37l0S6AbDWDa"
      }
    },
    {
      "cell_type": "code",
      "source": [
        "features=df.drop('is_churn', axis=1)\n",
        "labels=df['is_churn']"
      ],
      "metadata": {
        "id": "eu4IiQ4XAhs6"
      },
      "execution_count": null,
      "outputs": []
    },
    {
      "cell_type": "markdown",
      "source": [
        "Using SMOTE OverSampling to Balance the imablance in classes found in the dataset "
      ],
      "metadata": {
        "id": "5oWRZ0XIDewX"
      }
    },
    {
      "cell_type": "code",
      "source": [
        "from imblearn.over_sampling import SMOTE\n",
        "# transform the dataset\n",
        "oversample = SMOTE()\n",
        "X, y = oversample.fit_resample(features, labels)"
      ],
      "metadata": {
        "id": "mo5-d6heAhqM"
      },
      "execution_count": null,
      "outputs": []
    },
    {
      "cell_type": "markdown",
      "source": [
        "Nomralizing Dataset using MinMaxScalar "
      ],
      "metadata": {
        "id": "1s5jWp3sDpBJ"
      }
    },
    {
      "cell_type": "code",
      "source": [
        "from sklearn.preprocessing import MinMaxScaler\n",
        "\n",
        "scaler = MinMaxScaler()\n",
        "scaled = scaler.fit_transform(X)"
      ],
      "metadata": {
        "id": "q5dKLOJuAhkt"
      },
      "execution_count": null,
      "outputs": []
    }
  ]
}